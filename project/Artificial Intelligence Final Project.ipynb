{
  "nbformat": 4,
  "nbformat_minor": 0,
  "metadata": {
    "colab": {
      "provenance": []
    },
    "kernelspec": {
      "name": "python3",
      "display_name": "Python 3"
    },
    "language_info": {
      "name": "python"
    }
  },
  "cells": [
    {
      "cell_type": "markdown",
      "source": [
        "## Importing the libraries and the dataset"
      ],
      "metadata": {
        "id": "a46DA7UF4Xk4"
      }
    },
    {
      "cell_type": "code",
      "execution_count": null,
      "metadata": {
        "id": "tvcUSTzBpEKp"
      },
      "outputs": [],
      "source": [
        "import numpy as np\n",
        "import pandas as pd\n",
        "import matplotlib.pyplot as plt\n",
        "import seaborn as sns\n",
        "from sklearn.preprocessing import LabelEncoder\n",
        "from sklearn.model_selection import train_test_split\n",
        "from sklearn.preprocessing import StandardScaler\n",
        "from keras.models import Sequential\n",
        "from keras.layers import Dense\n",
        "from sklearn.metrics import confusion_matrix , classification_report\n",
        "from sklearn import metrics\n",
        "from sklearn.ensemble import RandomForestClassifier"
      ]
    },
    {
      "cell_type": "code",
      "source": [
        "excel = pd.read_csv('/content/exams.csv')\n",
        "\n",
        "df = pd.DataFrame(excel)\n",
        "\n",
        "df.head(4)"
      ],
      "metadata": {
        "id": "r3dXQB_cpg8z"
      },
      "execution_count": null,
      "outputs": []
    },
    {
      "cell_type": "markdown",
      "source": [
        "## Exploring, Preprocessing and Encoding the data."
      ],
      "metadata": {
        "id": "pYYYb8_-3kuB"
      }
    },
    {
      "cell_type": "code",
      "source": [
        "df['race/ethnicity'] = df['race/ethnicity'].map({'group A': 0, 'group B': 1, 'group C' : 2, 'group D': 3 , 'group E' : 4})"
      ],
      "metadata": {
        "id": "4XNmGYqLphAM"
      },
      "execution_count": null,
      "outputs": []
    },
    {
      "cell_type": "code",
      "source": [
        "print(df.info())\n",
        "print(df.describe())\n",
        "print(df.head())"
      ],
      "metadata": {
        "id": "kitvpqliphFR"
      },
      "execution_count": null,
      "outputs": []
    },
    {
      "cell_type": "code",
      "source": [
        "sns.scatterplot(x = 'math score' , y = 'reading score', data = df)"
      ],
      "metadata": {
        "id": "eyZJuS8gPQd6"
      },
      "execution_count": null,
      "outputs": []
    },
    {
      "cell_type": "code",
      "source": [
        "sns.scatterplot(x = 'reading score' , y = 'writing score', data = df)"
      ],
      "metadata": {
        "id": "5GtFEyTGPQs0"
      },
      "execution_count": null,
      "outputs": []
    },
    {
      "cell_type": "code",
      "source": [
        "sns.scatterplot(x = 'math score' , y = 'writing score', data = df)"
      ],
      "metadata": {
        "id": "5FtsGE_EPQyo"
      },
      "execution_count": null,
      "outputs": []
    },
    {
      "cell_type": "code",
      "source": [
        "sns.countplot(x = 'gender', data = df)"
      ],
      "metadata": {
        "id": "JSaW7d8tR-Be"
      },
      "execution_count": null,
      "outputs": []
    },
    {
      "cell_type": "code",
      "source": [
        "sns.lineplot( x = 'writing score', y = 'math score' ,hue = 'test preparation course' , data = df)"
      ],
      "metadata": {
        "id": "BozlCcfOR-Dz"
      },
      "execution_count": null,
      "outputs": []
    },
    {
      "cell_type": "code",
      "source": [
        "categories = df.select_dtypes(['object']).columns\n",
        "\n",
        "LE = LabelEncoder()\n",
        "df[categories] = df[categories].apply(lambda x: pd.factorize(x)[0])\n",
        "\n",
        "LE.fit_transform(categories)"
      ],
      "metadata": {
        "id": "j0cmWRr0phCz"
      },
      "execution_count": null,
      "outputs": []
    },
    {
      "cell_type": "code",
      "source": [
        "df.corr()"
      ],
      "metadata": {
        "id": "VViyn-drSyzl"
      },
      "execution_count": null,
      "outputs": []
    },
    {
      "cell_type": "markdown",
      "source": [
        "## Artificial Neural Network Classification"
      ],
      "metadata": {
        "id": "PBuR8imt3d1t"
      }
    },
    {
      "cell_type": "code",
      "source": [
        "y = df['test preparation course']\n",
        "x = df.drop(['test preparation course'], axis = 1)\n",
        "\n",
        " \n",
        "x_train, x_test, y_train, y_test = train_test_split(x, y, test_size = 0.2, random_state = 0)"
      ],
      "metadata": {
        "id": "Lvs8RAUnCos2"
      },
      "execution_count": null,
      "outputs": []
    },
    {
      "cell_type": "code",
      "source": [
        "sc = StandardScaler()\n",
        "x_train = sc.fit_transform(x_train)\n",
        "x_test = sc.transform(x_test)"
      ],
      "metadata": {
        "id": "hwJpCcJMphK7"
      },
      "execution_count": null,
      "outputs": []
    },
    {
      "cell_type": "code",
      "source": [
        "classifier = Sequential()"
      ],
      "metadata": {
        "id": "6uN3JyCrphM7"
      },
      "execution_count": null,
      "outputs": []
    },
    {
      "cell_type": "code",
      "source": [
        "classifier.add(Dense(units = 60, activation = 'relu', input_shape=x_train[0].shape))"
      ],
      "metadata": {
        "id": "HgBmB9W-phPB"
      },
      "execution_count": null,
      "outputs": []
    },
    {
      "cell_type": "code",
      "source": [
        "classifier.add(Dense(units = 35, activation = 'relu'))"
      ],
      "metadata": {
        "id": "2QybgKQCphRg"
      },
      "execution_count": null,
      "outputs": []
    },
    {
      "cell_type": "code",
      "source": [
        "classifier.add(Dense(units = 10, activation = 'relu'))"
      ],
      "metadata": {
        "id": "BAQNr5BH1NUt"
      },
      "execution_count": null,
      "outputs": []
    },
    {
      "cell_type": "code",
      "source": [
        "classifier.add(Dense(units = 1, activation = 'sigmoid'))"
      ],
      "metadata": {
        "id": "VQitvftdphTu"
      },
      "execution_count": null,
      "outputs": []
    },
    {
      "cell_type": "code",
      "source": [
        "classifier.compile(optimizer = 'adam', loss = 'binary_crossentropy', metrics = ['accuracy'])"
      ],
      "metadata": {
        "id": "FpA6lOIFphXs"
      },
      "execution_count": null,
      "outputs": []
    },
    {
      "cell_type": "code",
      "source": [
        "classifier.fit(x_train, y_train, batch_size = 10, epochs = 25)"
      ],
      "metadata": {
        "id": "6QR8hzl2phZ-"
      },
      "execution_count": null,
      "outputs": []
    },
    {
      "cell_type": "code",
      "source": [
        "df.head()"
      ],
      "metadata": {
        "id": "2hlihTqr0_Qf"
      },
      "execution_count": null,
      "outputs": []
    },
    {
      "cell_type": "code",
      "source": [
        "print(classifier.predict(sc.transform([[1,1,1 ,1, 50, 50, 50]]))> 0.5)"
      ],
      "metadata": {
        "id": "Ui89A8ntphb_"
      },
      "execution_count": null,
      "outputs": []
    },
    {
      "cell_type": "code",
      "source": [
        "y_pred = classifier.predict(x_test)\n",
        "y_pred = (y_pred > 0.5)"
      ],
      "metadata": {
        "id": "k_um1QjHphww"
      },
      "execution_count": null,
      "outputs": []
    },
    {
      "cell_type": "code",
      "source": [
        "cm = confusion_matrix(y_test, y_pred)\n",
        "print(cm)"
      ],
      "metadata": {
        "id": "PN4rq0w1phzB"
      },
      "execution_count": null,
      "outputs": []
    },
    {
      "cell_type": "code",
      "source": [
        "print(\"Accuracy is \" , metrics.accuracy_score(y_test,y_pred))\n",
        "print(\"Precision is \" , metrics.precision_score(y_test,y_pred))\n",
        "print(\"Recall is \" , metrics.recall_score(y_test,y_pred))\n",
        "print(\"F1 Score is \" , metrics.f1_score(y_test,y_pred))"
      ],
      "metadata": {
        "id": "vJXvvWZCph2P"
      },
      "execution_count": null,
      "outputs": []
    },
    {
      "cell_type": "markdown",
      "source": [
        "## Random Forest Classification"
      ],
      "metadata": {
        "id": "xI733cME3XMh"
      }
    },
    {
      "cell_type": "code",
      "source": [
        "y = df['test preparation course']\n",
        "x = df.drop(['test preparation course' , 'lunch'], axis = 1)\n",
        "\n",
        " \n",
        "x_train, x_test, y_train, y_test = train_test_split(x, y, test_size = 0.2, random_state = 0)"
      ],
      "metadata": {
        "id": "bNH-HBH55ESI"
      },
      "execution_count": null,
      "outputs": []
    },
    {
      "cell_type": "code",
      "source": [
        "rfc = RandomForestClassifier(n_estimators=200)\n",
        "\n",
        "rfc_acc = []\n",
        "rfc_rca = []\n",
        "rfc_prc = []\n",
        "rfc_f1 =  []\n",
        "\n",
        "sc = StandardScaler()\n",
        "\n",
        "for f in range(30):\n",
        "\n",
        "  x_train, x_test, y_train, y_test = train_test_split(x, y, test_size = 0.2, random_state = 0)\n",
        "\n",
        "  \n",
        "  x_train = sc.fit_transform(x_train)\n",
        "  x_test = sc.transform(x_test)\n",
        "\n",
        "  rfc.fit(x_train, y_train)\n",
        "  \n",
        "  rfc_predictions = rfc.predict(x_test)\n",
        "\n",
        "  acc1 = accuracy_score(y_test , rfc_predictions)\n",
        "  rfc_acc.append(acc1)\n",
        "\n",
        "  rca1 = recall_score(y_test , rfc_predictions)\n",
        "  rfc_rca.append(rca1)\n",
        "\n",
        "  prc1 = precision_score(y_test , rfc_predictions)\n",
        "  rfc_prc.append(prc1)\n",
        "\n",
        "  f1_1 = f1_score(y_test , rfc_predictions)\n",
        "  rfc_f1.append(f1_1)\n",
        "\n",
        "\n",
        "print(classification_report(y_test,rfc_predictions))\n",
        "  \n",
        "print(confusion_matrix(y_test,rfc_predictions))\n",
        "\n",
        "rfcacc = sum(rfc_acc)/len(rfc_acc)\n",
        "rfcprc = sum(rfc_prc)/len(rfc_prc)\n",
        "rfcrca = sum(rfc_rca)/len(rfc_rca)\n",
        "rfcf1  = sum(rfc_f1)/len(rfc_f1)\n",
        "\n",
        "print('Accuracy: ', rfcacc)\n",
        "print(\"Precision: \", rfcprc)\n",
        "print(\"Recall: \", rfcrca)\n",
        "print(\"F1_score: \", rfcf1)"
      ],
      "metadata": {
        "id": "Ua0y1Nn7wQ3-"
      },
      "execution_count": null,
      "outputs": []
    },
    {
      "cell_type": "code",
      "source": [],
      "metadata": {
        "id": "5sG3mJc32msI"
      },
      "execution_count": null,
      "outputs": []
    },
    {
      "cell_type": "code",
      "source": [],
      "metadata": {
        "id": "plOcdv6r2mu3"
      },
      "execution_count": null,
      "outputs": []
    },
    {
      "cell_type": "code",
      "source": [],
      "metadata": {
        "id": "O0c5rrNg2mx8"
      },
      "execution_count": null,
      "outputs": []
    },
    {
      "cell_type": "code",
      "source": [],
      "metadata": {
        "id": "GJAnLYhH2m01"
      },
      "execution_count": null,
      "outputs": []
    },
    {
      "cell_type": "code",
      "source": [],
      "metadata": {
        "id": "5EKyDIEn2m3F"
      },
      "execution_count": null,
      "outputs": []
    },
    {
      "cell_type": "code",
      "source": [],
      "metadata": {
        "id": "m0WcX1EI2m5S"
      },
      "execution_count": null,
      "outputs": []
    },
    {
      "cell_type": "code",
      "source": [],
      "metadata": {
        "id": "05TJmAhV2m72"
      },
      "execution_count": null,
      "outputs": []
    },
    {
      "cell_type": "code",
      "source": [],
      "metadata": {
        "id": "VMvFP6hy2m-w"
      },
      "execution_count": null,
      "outputs": []
    },
    {
      "cell_type": "code",
      "source": [],
      "metadata": {
        "id": "4d3A5EdJ2nBl"
      },
      "execution_count": null,
      "outputs": []
    }
  ]
}