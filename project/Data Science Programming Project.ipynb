{
  "nbformat": 4,
  "nbformat_minor": 0,
  "metadata": {
    "colab": {
      "provenance": []
    },
    "kernelspec": {
      "name": "python3",
      "display_name": "Python 3"
    },
    "language_info": {
      "name": "python"
    }
  },
  "cells": [
    {
      "cell_type": "markdown",
      "source": [
        "##Reading the CSV file, and Preprocessing steps."
      ],
      "metadata": {
        "id": "Y_mZQdbae9dt"
      }
    },
    {
      "cell_type": "code",
      "source": [
        "from google.colab import drive\n",
        "drive.mount('/content/drive')"
      ],
      "metadata": {
        "id": "Q8QUly_sRJO1",
        "colab": {
          "base_uri": "https://localhost:8080/"
        },
        "outputId": "6c02faff-6461-4aa8-9e35-a16d7d89d6c6"
      },
      "execution_count": 2,
      "outputs": [
        {
          "output_type": "stream",
          "name": "stdout",
          "text": [
            "Drive already mounted at /content/drive; to attempt to forcibly remount, call drive.mount(\"/content/drive\", force_remount=True).\n"
          ]
        }
      ]
    },
    {
      "cell_type": "code",
      "source": [
        "import matplotlib.pyplot as plt\n",
        "from sklearn.model_selection import train_test_split\n",
        "from sklearn.neighbors import KNeighborsClassifier\n",
        "from sklearn.linear_model import LogisticRegression\n",
        "from sklearn.tree import DecisionTreeClassifier\n",
        "from sklearn.naive_bayes import GaussianNB\n",
        "from sklearn.metrics import accuracy_score, recall_score, precision_score, f1_score\n",
        "from sklearn.preprocessing import MinMaxScaler"
      ],
      "metadata": {
        "id": "vW8NOf4HJrOI"
      },
      "execution_count": 3,
      "outputs": []
    },
    {
      "cell_type": "code",
      "execution_count": 4,
      "metadata": {
        "id": "u2ip02y9xYSw",
        "colab": {
          "base_uri": "https://localhost:8080/",
          "height": 835
        },
        "outputId": "abf37170-c7aa-4bb6-87ac-4d0087269a7d"
      },
      "outputs": [
        {
          "output_type": "execute_result",
          "data": {
            "text/plain": [
              "                  CASE_ID      OFFER_NAME CUSTOMER_TYPE    CUSTOMER_GROUP  \\\n",
              "0      CAS-1060890-L3D6Q6       FTTH Home           CBU         FTTH Home   \n",
              "1       CAS-388567-W4B9Q3             NaN           CBU               NaN   \n",
              "2      CAS-1494939-L9F0X7  Bitstream Home           CBU  Wanadoo-ADSL-Res   \n",
              "3      CAS-1059985-K3Y9F7       FTTH Home           CBU         FTTH Home   \n",
              "4      CAS-1239942-Y1S2F5       FTTH Home           CBU         FTTH Home   \n",
              "...                   ...             ...           ...               ...   \n",
              "10410   CAS-549162-Y2F4X6  OnLine Prepaid           CBU           Prepaid   \n",
              "10411  CAS-1094578-B7J7Z0       FTTH Home           CBU         FTTH Home   \n",
              "10412   CAS-470088-Q3Y2V7  FTTB Corporate           EBU    FTTB Corporate   \n",
              "10413  CAS-1249800-V2H6C7  Bitstream Home           CBU  Wanadoo-ADSL-Res   \n",
              "10414   CAS-805076-V0F0N9  Bitstream Home           CBU  Wanadoo-ADSL-Res   \n",
              "\n",
              "      CURRENT_STATUS ESCALATION_FLAG ESCALATED_GROUP         OPEN_DATE  \\\n",
              "0           Resolved             Yes          F&I_BO  19.06.2022 06:07   \n",
              "1           Resolved             Yes       Mobile_BO  04.04.2022 14:11   \n",
              "2           Resolved              No             NaN  03.08.2022 03:20   \n",
              "3           Resolved              No             NaN  18.06.2022 20:38   \n",
              "4           Resolved              No             NaN  06.07.2022 01:22   \n",
              "...              ...             ...             ...               ...   \n",
              "10410       Resolved              No             NaN  23.04.2022 09:31   \n",
              "10411       Resolved              No             NaN  21.06.2022 19:40   \n",
              "10412       Resolved              No             NaN  14.04.2022 14:36   \n",
              "10413       Resolved              No             NaN  07.07.2022 05:54   \n",
              "10414       Resolved              No             NaN  22.05.2022 20:31   \n",
              "\n",
              "         OPEN_USER        CLOSE_DATE  ... AGE_BRACKET      ACTUAL_COMPLAINT  \\\n",
              "0             DANA  21.06.2022 13:41  ...         2.0      Actual Complaint   \n",
              "1      TCRMService  05.04.2022 12:13  ...         1.0  Not Actual Complaint   \n",
              "2           MOUTAZ  03.08.2022 03:20  ...         1.0       User Not Filled   \n",
              "3            MOATH  18.06.2022 20:38  ...         1.0       User Not Filled   \n",
              "4          IBRAHIM  06.07.2022 01:22  ...         1.0       User Not Filled   \n",
              "...            ...               ...  ...         ...                   ...   \n",
              "10410        ABRAR  23.04.2022 09:31  ...         1.0       User Not Filled   \n",
              "10411        AHMAD  21.06.2022 19:40  ...         1.0       User Not Filled   \n",
              "10412      YASMEEN  14.04.2022 14:36  ...         1.0       User Not Filled   \n",
              "10413      ALANOUD  07.07.2022 05:54  ...         1.0       User Not Filled   \n",
              "10414      HUSSEIN  22.05.2022 20:31  ...         1.0       User Not Filled   \n",
              "\n",
              "       CALLBACK_MECHANISM RESOLUTION RESOLUTION_DESCRIPTION CASE_DESC  \\\n",
              "0                   Phone        NaN                    NaN       NaN   \n",
              "1                   Phone        NaN                    NaN       NaN   \n",
              "2                     NaN        NaN                    NaN       NaN   \n",
              "3                     NaN        NaN                    NaN       NaN   \n",
              "4                     NaN        NaN                    NaN       NaN   \n",
              "...                   ...        ...                    ...       ...   \n",
              "10410                 NaN        NaN                    NaN       NaN   \n",
              "10411                 NaN        NaN                    NaN       NaN   \n",
              "10412                 NaN        NaN                    NaN       NaN   \n",
              "10413                 NaN        NaN                    NaN       NaN   \n",
              "10414                 NaN        NaN                    NaN       NaN   \n",
              "\n",
              "                         OPEN_GR COMPLAINT_TYPE   PRODUCT                 CASE  \n",
              "0      CBU / EBU - personal view      Technical  Internet  Technical complaint  \n",
              "1           System Administrator     Commercial    Mobile     Commercial claim  \n",
              "2          CBU - CC 1st Layer A       Technical  Internet  Technical complaint  \n",
              "3                            NaN      Technical  Internet  Technical complaint  \n",
              "4          CBU - CC 1st Layer A       Technical  Internet  Technical complaint  \n",
              "...                          ...            ...       ...                  ...  \n",
              "10410                        NaN     Commercial    Mobile     Commercial claim  \n",
              "10411      CBU - CC 1st Layer A       Technical  Internet  Technical complaint  \n",
              "10412      CBU - CC 1st Layer A       Technical  Internet  Technical complaint  \n",
              "10413      CBU - CC 1st Layer A       Technical  Internet  Technical complaint  \n",
              "10414                        NaN      Technical  Internet  Technical complaint  \n",
              "\n",
              "[10415 rows x 22 columns]"
            ],
            "text/html": [
              "\n",
              "  <div id=\"df-9279bb50-ee61-4cb3-9e5d-9d5c26586e35\">\n",
              "    <div class=\"colab-df-container\">\n",
              "      <div>\n",
              "<style scoped>\n",
              "    .dataframe tbody tr th:only-of-type {\n",
              "        vertical-align: middle;\n",
              "    }\n",
              "\n",
              "    .dataframe tbody tr th {\n",
              "        vertical-align: top;\n",
              "    }\n",
              "\n",
              "    .dataframe thead th {\n",
              "        text-align: right;\n",
              "    }\n",
              "</style>\n",
              "<table border=\"1\" class=\"dataframe\">\n",
              "  <thead>\n",
              "    <tr style=\"text-align: right;\">\n",
              "      <th></th>\n",
              "      <th>CASE_ID</th>\n",
              "      <th>OFFER_NAME</th>\n",
              "      <th>CUSTOMER_TYPE</th>\n",
              "      <th>CUSTOMER_GROUP</th>\n",
              "      <th>CURRENT_STATUS</th>\n",
              "      <th>ESCALATION_FLAG</th>\n",
              "      <th>ESCALATED_GROUP</th>\n",
              "      <th>OPEN_DATE</th>\n",
              "      <th>OPEN_USER</th>\n",
              "      <th>CLOSE_DATE</th>\n",
              "      <th>...</th>\n",
              "      <th>AGE_BRACKET</th>\n",
              "      <th>ACTUAL_COMPLAINT</th>\n",
              "      <th>CALLBACK_MECHANISM</th>\n",
              "      <th>RESOLUTION</th>\n",
              "      <th>RESOLUTION_DESCRIPTION</th>\n",
              "      <th>CASE_DESC</th>\n",
              "      <th>OPEN_GR</th>\n",
              "      <th>COMPLAINT_TYPE</th>\n",
              "      <th>PRODUCT</th>\n",
              "      <th>CASE</th>\n",
              "    </tr>\n",
              "  </thead>\n",
              "  <tbody>\n",
              "    <tr>\n",
              "      <th>0</th>\n",
              "      <td>CAS-1060890-L3D6Q6</td>\n",
              "      <td>FTTH Home</td>\n",
              "      <td>CBU</td>\n",
              "      <td>FTTH Home</td>\n",
              "      <td>Resolved</td>\n",
              "      <td>Yes</td>\n",
              "      <td>F&amp;I_BO</td>\n",
              "      <td>19.06.2022 06:07</td>\n",
              "      <td>DANA</td>\n",
              "      <td>21.06.2022 13:41</td>\n",
              "      <td>...</td>\n",
              "      <td>2.0</td>\n",
              "      <td>Actual Complaint</td>\n",
              "      <td>Phone</td>\n",
              "      <td>NaN</td>\n",
              "      <td>NaN</td>\n",
              "      <td>NaN</td>\n",
              "      <td>CBU / EBU - personal view</td>\n",
              "      <td>Technical</td>\n",
              "      <td>Internet</td>\n",
              "      <td>Technical complaint</td>\n",
              "    </tr>\n",
              "    <tr>\n",
              "      <th>1</th>\n",
              "      <td>CAS-388567-W4B9Q3</td>\n",
              "      <td>NaN</td>\n",
              "      <td>CBU</td>\n",
              "      <td>NaN</td>\n",
              "      <td>Resolved</td>\n",
              "      <td>Yes</td>\n",
              "      <td>Mobile_BO</td>\n",
              "      <td>04.04.2022 14:11</td>\n",
              "      <td>TCRMService</td>\n",
              "      <td>05.04.2022 12:13</td>\n",
              "      <td>...</td>\n",
              "      <td>1.0</td>\n",
              "      <td>Not Actual Complaint</td>\n",
              "      <td>Phone</td>\n",
              "      <td>NaN</td>\n",
              "      <td>NaN</td>\n",
              "      <td>NaN</td>\n",
              "      <td>System Administrator</td>\n",
              "      <td>Commercial</td>\n",
              "      <td>Mobile</td>\n",
              "      <td>Commercial claim</td>\n",
              "    </tr>\n",
              "    <tr>\n",
              "      <th>2</th>\n",
              "      <td>CAS-1494939-L9F0X7</td>\n",
              "      <td>Bitstream Home</td>\n",
              "      <td>CBU</td>\n",
              "      <td>Wanadoo-ADSL-Res</td>\n",
              "      <td>Resolved</td>\n",
              "      <td>No</td>\n",
              "      <td>NaN</td>\n",
              "      <td>03.08.2022 03:20</td>\n",
              "      <td>MOUTAZ</td>\n",
              "      <td>03.08.2022 03:20</td>\n",
              "      <td>...</td>\n",
              "      <td>1.0</td>\n",
              "      <td>User Not Filled</td>\n",
              "      <td>NaN</td>\n",
              "      <td>NaN</td>\n",
              "      <td>NaN</td>\n",
              "      <td>NaN</td>\n",
              "      <td>CBU - CC 1st Layer A</td>\n",
              "      <td>Technical</td>\n",
              "      <td>Internet</td>\n",
              "      <td>Technical complaint</td>\n",
              "    </tr>\n",
              "    <tr>\n",
              "      <th>3</th>\n",
              "      <td>CAS-1059985-K3Y9F7</td>\n",
              "      <td>FTTH Home</td>\n",
              "      <td>CBU</td>\n",
              "      <td>FTTH Home</td>\n",
              "      <td>Resolved</td>\n",
              "      <td>No</td>\n",
              "      <td>NaN</td>\n",
              "      <td>18.06.2022 20:38</td>\n",
              "      <td>MOATH</td>\n",
              "      <td>18.06.2022 20:38</td>\n",
              "      <td>...</td>\n",
              "      <td>1.0</td>\n",
              "      <td>User Not Filled</td>\n",
              "      <td>NaN</td>\n",
              "      <td>NaN</td>\n",
              "      <td>NaN</td>\n",
              "      <td>NaN</td>\n",
              "      <td>NaN</td>\n",
              "      <td>Technical</td>\n",
              "      <td>Internet</td>\n",
              "      <td>Technical complaint</td>\n",
              "    </tr>\n",
              "    <tr>\n",
              "      <th>4</th>\n",
              "      <td>CAS-1239942-Y1S2F5</td>\n",
              "      <td>FTTH Home</td>\n",
              "      <td>CBU</td>\n",
              "      <td>FTTH Home</td>\n",
              "      <td>Resolved</td>\n",
              "      <td>No</td>\n",
              "      <td>NaN</td>\n",
              "      <td>06.07.2022 01:22</td>\n",
              "      <td>IBRAHIM</td>\n",
              "      <td>06.07.2022 01:22</td>\n",
              "      <td>...</td>\n",
              "      <td>1.0</td>\n",
              "      <td>User Not Filled</td>\n",
              "      <td>NaN</td>\n",
              "      <td>NaN</td>\n",
              "      <td>NaN</td>\n",
              "      <td>NaN</td>\n",
              "      <td>CBU - CC 1st Layer A</td>\n",
              "      <td>Technical</td>\n",
              "      <td>Internet</td>\n",
              "      <td>Technical complaint</td>\n",
              "    </tr>\n",
              "    <tr>\n",
              "      <th>...</th>\n",
              "      <td>...</td>\n",
              "      <td>...</td>\n",
              "      <td>...</td>\n",
              "      <td>...</td>\n",
              "      <td>...</td>\n",
              "      <td>...</td>\n",
              "      <td>...</td>\n",
              "      <td>...</td>\n",
              "      <td>...</td>\n",
              "      <td>...</td>\n",
              "      <td>...</td>\n",
              "      <td>...</td>\n",
              "      <td>...</td>\n",
              "      <td>...</td>\n",
              "      <td>...</td>\n",
              "      <td>...</td>\n",
              "      <td>...</td>\n",
              "      <td>...</td>\n",
              "      <td>...</td>\n",
              "      <td>...</td>\n",
              "      <td>...</td>\n",
              "    </tr>\n",
              "    <tr>\n",
              "      <th>10410</th>\n",
              "      <td>CAS-549162-Y2F4X6</td>\n",
              "      <td>OnLine Prepaid</td>\n",
              "      <td>CBU</td>\n",
              "      <td>Prepaid</td>\n",
              "      <td>Resolved</td>\n",
              "      <td>No</td>\n",
              "      <td>NaN</td>\n",
              "      <td>23.04.2022 09:31</td>\n",
              "      <td>ABRAR</td>\n",
              "      <td>23.04.2022 09:31</td>\n",
              "      <td>...</td>\n",
              "      <td>1.0</td>\n",
              "      <td>User Not Filled</td>\n",
              "      <td>NaN</td>\n",
              "      <td>NaN</td>\n",
              "      <td>NaN</td>\n",
              "      <td>NaN</td>\n",
              "      <td>NaN</td>\n",
              "      <td>Commercial</td>\n",
              "      <td>Mobile</td>\n",
              "      <td>Commercial claim</td>\n",
              "    </tr>\n",
              "    <tr>\n",
              "      <th>10411</th>\n",
              "      <td>CAS-1094578-B7J7Z0</td>\n",
              "      <td>FTTH Home</td>\n",
              "      <td>CBU</td>\n",
              "      <td>FTTH Home</td>\n",
              "      <td>Resolved</td>\n",
              "      <td>No</td>\n",
              "      <td>NaN</td>\n",
              "      <td>21.06.2022 19:40</td>\n",
              "      <td>AHMAD</td>\n",
              "      <td>21.06.2022 19:40</td>\n",
              "      <td>...</td>\n",
              "      <td>1.0</td>\n",
              "      <td>User Not Filled</td>\n",
              "      <td>NaN</td>\n",
              "      <td>NaN</td>\n",
              "      <td>NaN</td>\n",
              "      <td>NaN</td>\n",
              "      <td>CBU - CC 1st Layer A</td>\n",
              "      <td>Technical</td>\n",
              "      <td>Internet</td>\n",
              "      <td>Technical complaint</td>\n",
              "    </tr>\n",
              "    <tr>\n",
              "      <th>10412</th>\n",
              "      <td>CAS-470088-Q3Y2V7</td>\n",
              "      <td>FTTB Corporate</td>\n",
              "      <td>EBU</td>\n",
              "      <td>FTTB Corporate</td>\n",
              "      <td>Resolved</td>\n",
              "      <td>No</td>\n",
              "      <td>NaN</td>\n",
              "      <td>14.04.2022 14:36</td>\n",
              "      <td>YASMEEN</td>\n",
              "      <td>14.04.2022 14:36</td>\n",
              "      <td>...</td>\n",
              "      <td>1.0</td>\n",
              "      <td>User Not Filled</td>\n",
              "      <td>NaN</td>\n",
              "      <td>NaN</td>\n",
              "      <td>NaN</td>\n",
              "      <td>NaN</td>\n",
              "      <td>CBU - CC 1st Layer A</td>\n",
              "      <td>Technical</td>\n",
              "      <td>Internet</td>\n",
              "      <td>Technical complaint</td>\n",
              "    </tr>\n",
              "    <tr>\n",
              "      <th>10413</th>\n",
              "      <td>CAS-1249800-V2H6C7</td>\n",
              "      <td>Bitstream Home</td>\n",
              "      <td>CBU</td>\n",
              "      <td>Wanadoo-ADSL-Res</td>\n",
              "      <td>Resolved</td>\n",
              "      <td>No</td>\n",
              "      <td>NaN</td>\n",
              "      <td>07.07.2022 05:54</td>\n",
              "      <td>ALANOUD</td>\n",
              "      <td>07.07.2022 05:54</td>\n",
              "      <td>...</td>\n",
              "      <td>1.0</td>\n",
              "      <td>User Not Filled</td>\n",
              "      <td>NaN</td>\n",
              "      <td>NaN</td>\n",
              "      <td>NaN</td>\n",
              "      <td>NaN</td>\n",
              "      <td>CBU - CC 1st Layer A</td>\n",
              "      <td>Technical</td>\n",
              "      <td>Internet</td>\n",
              "      <td>Technical complaint</td>\n",
              "    </tr>\n",
              "    <tr>\n",
              "      <th>10414</th>\n",
              "      <td>CAS-805076-V0F0N9</td>\n",
              "      <td>Bitstream Home</td>\n",
              "      <td>CBU</td>\n",
              "      <td>Wanadoo-ADSL-Res</td>\n",
              "      <td>Resolved</td>\n",
              "      <td>No</td>\n",
              "      <td>NaN</td>\n",
              "      <td>22.05.2022 20:31</td>\n",
              "      <td>HUSSEIN</td>\n",
              "      <td>22.05.2022 20:31</td>\n",
              "      <td>...</td>\n",
              "      <td>1.0</td>\n",
              "      <td>User Not Filled</td>\n",
              "      <td>NaN</td>\n",
              "      <td>NaN</td>\n",
              "      <td>NaN</td>\n",
              "      <td>NaN</td>\n",
              "      <td>NaN</td>\n",
              "      <td>Technical</td>\n",
              "      <td>Internet</td>\n",
              "      <td>Technical complaint</td>\n",
              "    </tr>\n",
              "  </tbody>\n",
              "</table>\n",
              "<p>10415 rows × 22 columns</p>\n",
              "</div>\n",
              "      <button class=\"colab-df-convert\" onclick=\"convertToInteractive('df-9279bb50-ee61-4cb3-9e5d-9d5c26586e35')\"\n",
              "              title=\"Convert this dataframe to an interactive table.\"\n",
              "              style=\"display:none;\">\n",
              "        \n",
              "  <svg xmlns=\"http://www.w3.org/2000/svg\" height=\"24px\"viewBox=\"0 0 24 24\"\n",
              "       width=\"24px\">\n",
              "    <path d=\"M0 0h24v24H0V0z\" fill=\"none\"/>\n",
              "    <path d=\"M18.56 5.44l.94 2.06.94-2.06 2.06-.94-2.06-.94-.94-2.06-.94 2.06-2.06.94zm-11 1L8.5 8.5l.94-2.06 2.06-.94-2.06-.94L8.5 2.5l-.94 2.06-2.06.94zm10 10l.94 2.06.94-2.06 2.06-.94-2.06-.94-.94-2.06-.94 2.06-2.06.94z\"/><path d=\"M17.41 7.96l-1.37-1.37c-.4-.4-.92-.59-1.43-.59-.52 0-1.04.2-1.43.59L10.3 9.45l-7.72 7.72c-.78.78-.78 2.05 0 2.83L4 21.41c.39.39.9.59 1.41.59.51 0 1.02-.2 1.41-.59l7.78-7.78 2.81-2.81c.8-.78.8-2.07 0-2.86zM5.41 20L4 18.59l7.72-7.72 1.47 1.35L5.41 20z\"/>\n",
              "  </svg>\n",
              "      </button>\n",
              "      \n",
              "  <style>\n",
              "    .colab-df-container {\n",
              "      display:flex;\n",
              "      flex-wrap:wrap;\n",
              "      gap: 12px;\n",
              "    }\n",
              "\n",
              "    .colab-df-convert {\n",
              "      background-color: #E8F0FE;\n",
              "      border: none;\n",
              "      border-radius: 50%;\n",
              "      cursor: pointer;\n",
              "      display: none;\n",
              "      fill: #1967D2;\n",
              "      height: 32px;\n",
              "      padding: 0 0 0 0;\n",
              "      width: 32px;\n",
              "    }\n",
              "\n",
              "    .colab-df-convert:hover {\n",
              "      background-color: #E2EBFA;\n",
              "      box-shadow: 0px 1px 2px rgba(60, 64, 67, 0.3), 0px 1px 3px 1px rgba(60, 64, 67, 0.15);\n",
              "      fill: #174EA6;\n",
              "    }\n",
              "\n",
              "    [theme=dark] .colab-df-convert {\n",
              "      background-color: #3B4455;\n",
              "      fill: #D2E3FC;\n",
              "    }\n",
              "\n",
              "    [theme=dark] .colab-df-convert:hover {\n",
              "      background-color: #434B5C;\n",
              "      box-shadow: 0px 1px 3px 1px rgba(0, 0, 0, 0.15);\n",
              "      filter: drop-shadow(0px 1px 2px rgba(0, 0, 0, 0.3));\n",
              "      fill: #FFFFFF;\n",
              "    }\n",
              "  </style>\n",
              "\n",
              "      <script>\n",
              "        const buttonEl =\n",
              "          document.querySelector('#df-9279bb50-ee61-4cb3-9e5d-9d5c26586e35 button.colab-df-convert');\n",
              "        buttonEl.style.display =\n",
              "          google.colab.kernel.accessAllowed ? 'block' : 'none';\n",
              "\n",
              "        async function convertToInteractive(key) {\n",
              "          const element = document.querySelector('#df-9279bb50-ee61-4cb3-9e5d-9d5c26586e35');\n",
              "          const dataTable =\n",
              "            await google.colab.kernel.invokeFunction('convertToInteractive',\n",
              "                                                     [key], {});\n",
              "          if (!dataTable) return;\n",
              "\n",
              "          const docLinkHtml = 'Like what you see? Visit the ' +\n",
              "            '<a target=\"_blank\" href=https://colab.research.google.com/notebooks/data_table.ipynb>data table notebook</a>'\n",
              "            + ' to learn more about interactive tables.';\n",
              "          element.innerHTML = '';\n",
              "          dataTable['output_type'] = 'display_data';\n",
              "          await google.colab.output.renderOutput(dataTable, element);\n",
              "          const docLink = document.createElement('div');\n",
              "          docLink.innerHTML = docLinkHtml;\n",
              "          element.appendChild(docLink);\n",
              "        }\n",
              "      </script>\n",
              "    </div>\n",
              "  </div>\n",
              "  "
            ]
          },
          "metadata": {},
          "execution_count": 4
        }
      ],
      "source": [
        "import pandas as pd\n",
        "import numpy as np\n",
        "\n",
        "excel = pd.read_csv(\"/content/drive/MyDrive/Complaints.csv\")\n",
        "\n",
        "DF = pd.DataFrame(excel)\n",
        "DF"
      ]
    },
    {
      "cell_type": "markdown",
      "source": [
        "_*This below statement is to check whether missing values happen to appear in columns_"
      ],
      "metadata": {
        "id": "FzzlrxBH5fd0"
      }
    },
    {
      "cell_type": "code",
      "source": [
        "null = DF.isnull().sum()\n",
        "null"
      ],
      "metadata": {
        "id": "pRHyJ_vmxnDK",
        "colab": {
          "base_uri": "https://localhost:8080/"
        },
        "outputId": "68fc6bd3-4603-49c8-8629-c82a04689041"
      },
      "execution_count": 5,
      "outputs": [
        {
          "output_type": "execute_result",
          "data": {
            "text/plain": [
              "CASE_ID                       0\n",
              "OFFER_NAME                 1293\n",
              "CUSTOMER_TYPE                 0\n",
              "CUSTOMER_GROUP             1348\n",
              "CURRENT_STATUS                0\n",
              "ESCALATION_FLAG               0\n",
              "ESCALATED_GROUP            7055\n",
              "OPEN_DATE                     0\n",
              "OPEN_USER                   362\n",
              "CLOSE_DATE                  119\n",
              "CLOSE_GROUP                4890\n",
              "CLOSE_USER                  516\n",
              "AGE_BRACKET                 119\n",
              "ACTUAL_COMPLAINT              0\n",
              "CALLBACK_MECHANISM         7277\n",
              "RESOLUTION                10336\n",
              "RESOLUTION_DESCRIPTION    10376\n",
              "CASE_DESC                  9243\n",
              "OPEN_GR                    4561\n",
              "COMPLAINT_TYPE                0\n",
              "PRODUCT                       0\n",
              "CASE                          0\n",
              "dtype: int64"
            ]
          },
          "metadata": {},
          "execution_count": 5
        }
      ]
    },
    {
      "cell_type": "markdown",
      "source": [
        "_*To start cleaning the data, we will start handling the missing data with the way I see fit. With a different cleaning statement for each column_"
      ],
      "metadata": {
        "id": "9aSn2iBX75st"
      }
    },
    {
      "cell_type": "code",
      "source": [
        "DF['AGE_BRACKET'] = DF['AGE_BRACKET'].fillna('0')\n",
        "  "
      ],
      "metadata": {
        "id": "E7qW7kWZ3mg-"
      },
      "execution_count": 6,
      "outputs": []
    },
    {
      "cell_type": "code",
      "source": [
        "for z in range(len(DF)):\n",
        "  if DF['OPEN_GR'].isnull().iloc[z] & DF['CLOSE_GROUP'].isnull().iloc[z]: \n",
        "    DF['OPEN_GR'].iloc[z] = DF['OPEN_GR'].fillna('Group Did Not Recieve Case').iloc[z]\n",
        "    DF['CLOSE_GROUP'].iloc[z] = DF['CLOSE_GROUP'].fillna('Group Did Not Recieve Case').iloc[z]\n",
        "\n",
        "  elif DF['OPEN_GR'].notnull().iloc[z]:\n",
        "    DF['CLOSE_GROUP'].iloc[z] = DF['CLOSE_GROUP'].fillna('CYC_COMMERCAIL_TEAM').iloc[z]\n",
        "\n",
        "  elif DF['CLOSE_GROUP'].notnull().iloc[z]:\n",
        "    DF['OPEN_GR'].iloc[z] = DF['OPEN_GR'].fillna(\"CBU - CC 1st Layer AÂ \").iloc[z]"
      ],
      "metadata": {
        "id": "Nf1j5cdyShxy"
      },
      "execution_count": 7,
      "outputs": []
    },
    {
      "cell_type": "code",
      "source": [
        "activedate = '1.1.2022 00:00'\n",
        "\n",
        "for g in range(len(DF)):\n",
        "  if DF['CURRENT_STATUS'].iloc[g] == 'Active':\n",
        "    DF['CLOSE_DATE'].iloc[g] = DF['CLOSE_DATE'].fillna(activedate).iloc[g]"
      ],
      "metadata": {
        "id": "046pITVsea-T"
      },
      "execution_count": 8,
      "outputs": []
    },
    {
      "cell_type": "code",
      "source": [
        "DF['OFFER_NAME'] = DF['OFFER_NAME'].fillna(DF['OFFER_NAME'].mode().iloc[0])"
      ],
      "metadata": {
        "id": "mctja0j-73Eh"
      },
      "execution_count": 9,
      "outputs": []
    },
    {
      "cell_type": "code",
      "source": [
        "DF['CUSTOMER_GROUP'] = DF['CUSTOMER_GROUP'].fillna(DF['CUSTOMER_GROUP'].mode().iloc[0])"
      ],
      "metadata": {
        "id": "9SQ7MxwU-HVK"
      },
      "execution_count": 10,
      "outputs": []
    },
    {
      "cell_type": "code",
      "source": [
        "DF['OPEN_USER'] = DF['OPEN_USER'].fillna('Anonymous')"
      ],
      "metadata": {
        "id": "uLu1Lood-gCN"
      },
      "execution_count": 11,
      "outputs": []
    },
    {
      "cell_type": "code",
      "source": [
        "DF['CLOSE_USER'] = DF['CLOSE_USER'].fillna('Anonymous')"
      ],
      "metadata": {
        "id": "NtjobEUu_sEE"
      },
      "execution_count": 12,
      "outputs": []
    },
    {
      "cell_type": "markdown",
      "source": [
        "_*As the data scientist for the telecome company, I have decided to eliminate any columns that have above than 50% missing values without cleaning them_ "
      ],
      "metadata": {
        "id": "OTcXmF94A_TE"
      }
    },
    {
      "cell_type": "code",
      "source": [
        "del DF['RESOLUTION']"
      ],
      "metadata": {
        "id": "t01XsN4FB2ki"
      },
      "execution_count": 13,
      "outputs": []
    },
    {
      "cell_type": "code",
      "source": [
        "del DF['RESOLUTION_DESCRIPTION']"
      ],
      "metadata": {
        "id": "Sk-VNFPOB2s-"
      },
      "execution_count": 14,
      "outputs": []
    },
    {
      "cell_type": "code",
      "source": [
        "del DF['CASE_DESC']"
      ],
      "metadata": {
        "id": "eTDYrO-kCG8N"
      },
      "execution_count": 15,
      "outputs": []
    },
    {
      "cell_type": "code",
      "source": [
        "del DF['ESCALATED_GROUP']"
      ],
      "metadata": {
        "id": "C-8jjr5amyE3"
      },
      "execution_count": 16,
      "outputs": []
    },
    {
      "cell_type": "code",
      "source": [
        "del DF['CASE_ID']"
      ],
      "metadata": {
        "id": "t_KKGV5Yn4f6"
      },
      "execution_count": 17,
      "outputs": []
    },
    {
      "cell_type": "code",
      "source": [
        "del DF['CALLBACK_MECHANISM']"
      ],
      "metadata": {
        "id": "DR7qCU4lqFJx"
      },
      "execution_count": 18,
      "outputs": []
    },
    {
      "cell_type": "code",
      "source": [
        "DF.info()"
      ],
      "metadata": {
        "id": "SMel-6S1nmkV",
        "colab": {
          "base_uri": "https://localhost:8080/"
        },
        "outputId": "58bc66fa-3901-4161-e051-a8ad1f893eae"
      },
      "execution_count": 19,
      "outputs": [
        {
          "output_type": "stream",
          "name": "stdout",
          "text": [
            "<class 'pandas.core.frame.DataFrame'>\n",
            "RangeIndex: 10415 entries, 0 to 10414\n",
            "Data columns (total 16 columns):\n",
            " #   Column            Non-Null Count  Dtype \n",
            "---  ------            --------------  ----- \n",
            " 0   OFFER_NAME        10415 non-null  object\n",
            " 1   CUSTOMER_TYPE     10415 non-null  object\n",
            " 2   CUSTOMER_GROUP    10415 non-null  object\n",
            " 3   CURRENT_STATUS    10415 non-null  object\n",
            " 4   ESCALATION_FLAG   10415 non-null  object\n",
            " 5   OPEN_DATE         10415 non-null  object\n",
            " 6   OPEN_USER         10415 non-null  object\n",
            " 7   CLOSE_DATE        10415 non-null  object\n",
            " 8   CLOSE_GROUP       10415 non-null  object\n",
            " 9   CLOSE_USER        10415 non-null  object\n",
            " 10  AGE_BRACKET       10415 non-null  object\n",
            " 11  ACTUAL_COMPLAINT  10415 non-null  object\n",
            " 12  OPEN_GR           10415 non-null  object\n",
            " 13  COMPLAINT_TYPE    10415 non-null  object\n",
            " 14  PRODUCT           10415 non-null  object\n",
            " 15  CASE              10415 non-null  object\n",
            "dtypes: object(16)\n",
            "memory usage: 1.3+ MB\n"
          ]
        }
      ]
    },
    {
      "cell_type": "code",
      "source": [
        "DF.describe()"
      ],
      "metadata": {
        "id": "n7ET5c2_nwaS",
        "colab": {
          "base_uri": "https://localhost:8080/",
          "height": 0
        },
        "outputId": "a398ead4-6346-4682-d850-a6bf0100f405"
      },
      "execution_count": 20,
      "outputs": [
        {
          "output_type": "execute_result",
          "data": {
            "text/plain": [
              "       OFFER_NAME CUSTOMER_TYPE CUSTOMER_GROUP CURRENT_STATUS ESCALATION_FLAG  \\\n",
              "count       10415         10415          10415          10415           10415   \n",
              "unique        140             2             73              2               2   \n",
              "top     FTTH Home           CBU      FTTH Home       Resolved              No   \n",
              "freq         5207         10190           4996          10292            7020   \n",
              "\n",
              "               OPEN_DATE    OPEN_USER      CLOSE_DATE  \\\n",
              "count              10415        10415           10415   \n",
              "unique             10045          272            9836   \n",
              "top     17.04.2022 11:38  TCRMService  1.1.2022 00:00   \n",
              "freq                   3         1214             119   \n",
              "\n",
              "                       CLOSE_GROUP CLOSE_USER  AGE_BRACKET ACTUAL_COMPLAINT  \\\n",
              "count                        10415      10415      10415.0            10415   \n",
              "unique                          47        290         39.0                3   \n",
              "top     Group Did Not Recieve Case  Anonymous          1.0  User Not Filled   \n",
              "freq                          3966        516       9043.0             7277   \n",
              "\n",
              "                           OPEN_GR COMPLAINT_TYPE   PRODUCT  \\\n",
              "count                        10415          10415     10415   \n",
              "unique                          20              2         2   \n",
              "top     Group Did Not Recieve Case      Technical  Internet   \n",
              "freq                          3966           7952      7297   \n",
              "\n",
              "                       CASE  \n",
              "count                 10415  \n",
              "unique                    5  \n",
              "top     Technical complaint  \n",
              "freq                   7654  "
            ],
            "text/html": [
              "\n",
              "  <div id=\"df-be967bc0-efbf-4e28-834c-54dfef1b7257\">\n",
              "    <div class=\"colab-df-container\">\n",
              "      <div>\n",
              "<style scoped>\n",
              "    .dataframe tbody tr th:only-of-type {\n",
              "        vertical-align: middle;\n",
              "    }\n",
              "\n",
              "    .dataframe tbody tr th {\n",
              "        vertical-align: top;\n",
              "    }\n",
              "\n",
              "    .dataframe thead th {\n",
              "        text-align: right;\n",
              "    }\n",
              "</style>\n",
              "<table border=\"1\" class=\"dataframe\">\n",
              "  <thead>\n",
              "    <tr style=\"text-align: right;\">\n",
              "      <th></th>\n",
              "      <th>OFFER_NAME</th>\n",
              "      <th>CUSTOMER_TYPE</th>\n",
              "      <th>CUSTOMER_GROUP</th>\n",
              "      <th>CURRENT_STATUS</th>\n",
              "      <th>ESCALATION_FLAG</th>\n",
              "      <th>OPEN_DATE</th>\n",
              "      <th>OPEN_USER</th>\n",
              "      <th>CLOSE_DATE</th>\n",
              "      <th>CLOSE_GROUP</th>\n",
              "      <th>CLOSE_USER</th>\n",
              "      <th>AGE_BRACKET</th>\n",
              "      <th>ACTUAL_COMPLAINT</th>\n",
              "      <th>OPEN_GR</th>\n",
              "      <th>COMPLAINT_TYPE</th>\n",
              "      <th>PRODUCT</th>\n",
              "      <th>CASE</th>\n",
              "    </tr>\n",
              "  </thead>\n",
              "  <tbody>\n",
              "    <tr>\n",
              "      <th>count</th>\n",
              "      <td>10415</td>\n",
              "      <td>10415</td>\n",
              "      <td>10415</td>\n",
              "      <td>10415</td>\n",
              "      <td>10415</td>\n",
              "      <td>10415</td>\n",
              "      <td>10415</td>\n",
              "      <td>10415</td>\n",
              "      <td>10415</td>\n",
              "      <td>10415</td>\n",
              "      <td>10415.0</td>\n",
              "      <td>10415</td>\n",
              "      <td>10415</td>\n",
              "      <td>10415</td>\n",
              "      <td>10415</td>\n",
              "      <td>10415</td>\n",
              "    </tr>\n",
              "    <tr>\n",
              "      <th>unique</th>\n",
              "      <td>140</td>\n",
              "      <td>2</td>\n",
              "      <td>73</td>\n",
              "      <td>2</td>\n",
              "      <td>2</td>\n",
              "      <td>10045</td>\n",
              "      <td>272</td>\n",
              "      <td>9836</td>\n",
              "      <td>47</td>\n",
              "      <td>290</td>\n",
              "      <td>39.0</td>\n",
              "      <td>3</td>\n",
              "      <td>20</td>\n",
              "      <td>2</td>\n",
              "      <td>2</td>\n",
              "      <td>5</td>\n",
              "    </tr>\n",
              "    <tr>\n",
              "      <th>top</th>\n",
              "      <td>FTTH Home</td>\n",
              "      <td>CBU</td>\n",
              "      <td>FTTH Home</td>\n",
              "      <td>Resolved</td>\n",
              "      <td>No</td>\n",
              "      <td>17.04.2022 11:38</td>\n",
              "      <td>TCRMService</td>\n",
              "      <td>1.1.2022 00:00</td>\n",
              "      <td>Group Did Not Recieve Case</td>\n",
              "      <td>Anonymous</td>\n",
              "      <td>1.0</td>\n",
              "      <td>User Not Filled</td>\n",
              "      <td>Group Did Not Recieve Case</td>\n",
              "      <td>Technical</td>\n",
              "      <td>Internet</td>\n",
              "      <td>Technical complaint</td>\n",
              "    </tr>\n",
              "    <tr>\n",
              "      <th>freq</th>\n",
              "      <td>5207</td>\n",
              "      <td>10190</td>\n",
              "      <td>4996</td>\n",
              "      <td>10292</td>\n",
              "      <td>7020</td>\n",
              "      <td>3</td>\n",
              "      <td>1214</td>\n",
              "      <td>119</td>\n",
              "      <td>3966</td>\n",
              "      <td>516</td>\n",
              "      <td>9043.0</td>\n",
              "      <td>7277</td>\n",
              "      <td>3966</td>\n",
              "      <td>7952</td>\n",
              "      <td>7297</td>\n",
              "      <td>7654</td>\n",
              "    </tr>\n",
              "  </tbody>\n",
              "</table>\n",
              "</div>\n",
              "      <button class=\"colab-df-convert\" onclick=\"convertToInteractive('df-be967bc0-efbf-4e28-834c-54dfef1b7257')\"\n",
              "              title=\"Convert this dataframe to an interactive table.\"\n",
              "              style=\"display:none;\">\n",
              "        \n",
              "  <svg xmlns=\"http://www.w3.org/2000/svg\" height=\"24px\"viewBox=\"0 0 24 24\"\n",
              "       width=\"24px\">\n",
              "    <path d=\"M0 0h24v24H0V0z\" fill=\"none\"/>\n",
              "    <path d=\"M18.56 5.44l.94 2.06.94-2.06 2.06-.94-2.06-.94-.94-2.06-.94 2.06-2.06.94zm-11 1L8.5 8.5l.94-2.06 2.06-.94-2.06-.94L8.5 2.5l-.94 2.06-2.06.94zm10 10l.94 2.06.94-2.06 2.06-.94-2.06-.94-.94-2.06-.94 2.06-2.06.94z\"/><path d=\"M17.41 7.96l-1.37-1.37c-.4-.4-.92-.59-1.43-.59-.52 0-1.04.2-1.43.59L10.3 9.45l-7.72 7.72c-.78.78-.78 2.05 0 2.83L4 21.41c.39.39.9.59 1.41.59.51 0 1.02-.2 1.41-.59l7.78-7.78 2.81-2.81c.8-.78.8-2.07 0-2.86zM5.41 20L4 18.59l7.72-7.72 1.47 1.35L5.41 20z\"/>\n",
              "  </svg>\n",
              "      </button>\n",
              "      \n",
              "  <style>\n",
              "    .colab-df-container {\n",
              "      display:flex;\n",
              "      flex-wrap:wrap;\n",
              "      gap: 12px;\n",
              "    }\n",
              "\n",
              "    .colab-df-convert {\n",
              "      background-color: #E8F0FE;\n",
              "      border: none;\n",
              "      border-radius: 50%;\n",
              "      cursor: pointer;\n",
              "      display: none;\n",
              "      fill: #1967D2;\n",
              "      height: 32px;\n",
              "      padding: 0 0 0 0;\n",
              "      width: 32px;\n",
              "    }\n",
              "\n",
              "    .colab-df-convert:hover {\n",
              "      background-color: #E2EBFA;\n",
              "      box-shadow: 0px 1px 2px rgba(60, 64, 67, 0.3), 0px 1px 3px 1px rgba(60, 64, 67, 0.15);\n",
              "      fill: #174EA6;\n",
              "    }\n",
              "\n",
              "    [theme=dark] .colab-df-convert {\n",
              "      background-color: #3B4455;\n",
              "      fill: #D2E3FC;\n",
              "    }\n",
              "\n",
              "    [theme=dark] .colab-df-convert:hover {\n",
              "      background-color: #434B5C;\n",
              "      box-shadow: 0px 1px 3px 1px rgba(0, 0, 0, 0.15);\n",
              "      filter: drop-shadow(0px 1px 2px rgba(0, 0, 0, 0.3));\n",
              "      fill: #FFFFFF;\n",
              "    }\n",
              "  </style>\n",
              "\n",
              "      <script>\n",
              "        const buttonEl =\n",
              "          document.querySelector('#df-be967bc0-efbf-4e28-834c-54dfef1b7257 button.colab-df-convert');\n",
              "        buttonEl.style.display =\n",
              "          google.colab.kernel.accessAllowed ? 'block' : 'none';\n",
              "\n",
              "        async function convertToInteractive(key) {\n",
              "          const element = document.querySelector('#df-be967bc0-efbf-4e28-834c-54dfef1b7257');\n",
              "          const dataTable =\n",
              "            await google.colab.kernel.invokeFunction('convertToInteractive',\n",
              "                                                     [key], {});\n",
              "          if (!dataTable) return;\n",
              "\n",
              "          const docLinkHtml = 'Like what you see? Visit the ' +\n",
              "            '<a target=\"_blank\" href=https://colab.research.google.com/notebooks/data_table.ipynb>data table notebook</a>'\n",
              "            + ' to learn more about interactive tables.';\n",
              "          element.innerHTML = '';\n",
              "          dataTable['output_type'] = 'display_data';\n",
              "          await google.colab.output.renderOutput(dataTable, element);\n",
              "          const docLink = document.createElement('div');\n",
              "          docLink.innerHTML = docLinkHtml;\n",
              "          element.appendChild(docLink);\n",
              "        }\n",
              "      </script>\n",
              "    </div>\n",
              "  </div>\n",
              "  "
            ]
          },
          "metadata": {},
          "execution_count": 20
        }
      ]
    },
    {
      "cell_type": "code",
      "source": [
        "DF.head()"
      ],
      "metadata": {
        "id": "_n7udsMbn-Xp",
        "colab": {
          "base_uri": "https://localhost:8080/",
          "height": 0
        },
        "outputId": "0537d5e3-f01e-4814-a1a7-c9dfa594de7f"
      },
      "execution_count": 21,
      "outputs": [
        {
          "output_type": "execute_result",
          "data": {
            "text/plain": [
              "       OFFER_NAME CUSTOMER_TYPE    CUSTOMER_GROUP CURRENT_STATUS  \\\n",
              "0       FTTH Home           CBU         FTTH Home       Resolved   \n",
              "1       FTTH Home           CBU         FTTH Home       Resolved   \n",
              "2  Bitstream Home           CBU  Wanadoo-ADSL-Res       Resolved   \n",
              "3       FTTH Home           CBU         FTTH Home       Resolved   \n",
              "4       FTTH Home           CBU         FTTH Home       Resolved   \n",
              "\n",
              "  ESCALATION_FLAG         OPEN_DATE    OPEN_USER        CLOSE_DATE  \\\n",
              "0             Yes  19.06.2022 06:07         DANA  21.06.2022 13:41   \n",
              "1             Yes  04.04.2022 14:11  TCRMService  05.04.2022 12:13   \n",
              "2              No  03.08.2022 03:20       MOUTAZ  03.08.2022 03:20   \n",
              "3              No  18.06.2022 20:38        MOATH  18.06.2022 20:38   \n",
              "4              No  06.07.2022 01:22      IBRAHIM  06.07.2022 01:22   \n",
              "\n",
              "                  CLOSE_GROUP CLOSE_USER AGE_BRACKET      ACTUAL_COMPLAINT  \\\n",
              "0                      F&I_BO       DANA         2.0      Actual Complaint   \n",
              "1                   Mobile_BO      ENNAS         1.0  Not Actual Complaint   \n",
              "2         CYC_COMMERCAIL_TEAM     MOUTAZ         1.0       User Not Filled   \n",
              "3  Group Did Not Recieve Case      MOATH         1.0       User Not Filled   \n",
              "4         CYC_COMMERCAIL_TEAM    IBRAHIM         1.0       User Not Filled   \n",
              "\n",
              "                      OPEN_GR COMPLAINT_TYPE   PRODUCT                 CASE  \n",
              "0   CBU / EBU - personal view      Technical  Internet  Technical complaint  \n",
              "1        System Administrator     Commercial    Mobile     Commercial claim  \n",
              "2       CBU - CC 1st Layer A       Technical  Internet  Technical complaint  \n",
              "3  Group Did Not Recieve Case      Technical  Internet  Technical complaint  \n",
              "4       CBU - CC 1st Layer A       Technical  Internet  Technical complaint  "
            ],
            "text/html": [
              "\n",
              "  <div id=\"df-58475798-9b26-4c6f-bacc-ce11d22d8186\">\n",
              "    <div class=\"colab-df-container\">\n",
              "      <div>\n",
              "<style scoped>\n",
              "    .dataframe tbody tr th:only-of-type {\n",
              "        vertical-align: middle;\n",
              "    }\n",
              "\n",
              "    .dataframe tbody tr th {\n",
              "        vertical-align: top;\n",
              "    }\n",
              "\n",
              "    .dataframe thead th {\n",
              "        text-align: right;\n",
              "    }\n",
              "</style>\n",
              "<table border=\"1\" class=\"dataframe\">\n",
              "  <thead>\n",
              "    <tr style=\"text-align: right;\">\n",
              "      <th></th>\n",
              "      <th>OFFER_NAME</th>\n",
              "      <th>CUSTOMER_TYPE</th>\n",
              "      <th>CUSTOMER_GROUP</th>\n",
              "      <th>CURRENT_STATUS</th>\n",
              "      <th>ESCALATION_FLAG</th>\n",
              "      <th>OPEN_DATE</th>\n",
              "      <th>OPEN_USER</th>\n",
              "      <th>CLOSE_DATE</th>\n",
              "      <th>CLOSE_GROUP</th>\n",
              "      <th>CLOSE_USER</th>\n",
              "      <th>AGE_BRACKET</th>\n",
              "      <th>ACTUAL_COMPLAINT</th>\n",
              "      <th>OPEN_GR</th>\n",
              "      <th>COMPLAINT_TYPE</th>\n",
              "      <th>PRODUCT</th>\n",
              "      <th>CASE</th>\n",
              "    </tr>\n",
              "  </thead>\n",
              "  <tbody>\n",
              "    <tr>\n",
              "      <th>0</th>\n",
              "      <td>FTTH Home</td>\n",
              "      <td>CBU</td>\n",
              "      <td>FTTH Home</td>\n",
              "      <td>Resolved</td>\n",
              "      <td>Yes</td>\n",
              "      <td>19.06.2022 06:07</td>\n",
              "      <td>DANA</td>\n",
              "      <td>21.06.2022 13:41</td>\n",
              "      <td>F&amp;I_BO</td>\n",
              "      <td>DANA</td>\n",
              "      <td>2.0</td>\n",
              "      <td>Actual Complaint</td>\n",
              "      <td>CBU / EBU - personal view</td>\n",
              "      <td>Technical</td>\n",
              "      <td>Internet</td>\n",
              "      <td>Technical complaint</td>\n",
              "    </tr>\n",
              "    <tr>\n",
              "      <th>1</th>\n",
              "      <td>FTTH Home</td>\n",
              "      <td>CBU</td>\n",
              "      <td>FTTH Home</td>\n",
              "      <td>Resolved</td>\n",
              "      <td>Yes</td>\n",
              "      <td>04.04.2022 14:11</td>\n",
              "      <td>TCRMService</td>\n",
              "      <td>05.04.2022 12:13</td>\n",
              "      <td>Mobile_BO</td>\n",
              "      <td>ENNAS</td>\n",
              "      <td>1.0</td>\n",
              "      <td>Not Actual Complaint</td>\n",
              "      <td>System Administrator</td>\n",
              "      <td>Commercial</td>\n",
              "      <td>Mobile</td>\n",
              "      <td>Commercial claim</td>\n",
              "    </tr>\n",
              "    <tr>\n",
              "      <th>2</th>\n",
              "      <td>Bitstream Home</td>\n",
              "      <td>CBU</td>\n",
              "      <td>Wanadoo-ADSL-Res</td>\n",
              "      <td>Resolved</td>\n",
              "      <td>No</td>\n",
              "      <td>03.08.2022 03:20</td>\n",
              "      <td>MOUTAZ</td>\n",
              "      <td>03.08.2022 03:20</td>\n",
              "      <td>CYC_COMMERCAIL_TEAM</td>\n",
              "      <td>MOUTAZ</td>\n",
              "      <td>1.0</td>\n",
              "      <td>User Not Filled</td>\n",
              "      <td>CBU - CC 1st Layer A</td>\n",
              "      <td>Technical</td>\n",
              "      <td>Internet</td>\n",
              "      <td>Technical complaint</td>\n",
              "    </tr>\n",
              "    <tr>\n",
              "      <th>3</th>\n",
              "      <td>FTTH Home</td>\n",
              "      <td>CBU</td>\n",
              "      <td>FTTH Home</td>\n",
              "      <td>Resolved</td>\n",
              "      <td>No</td>\n",
              "      <td>18.06.2022 20:38</td>\n",
              "      <td>MOATH</td>\n",
              "      <td>18.06.2022 20:38</td>\n",
              "      <td>Group Did Not Recieve Case</td>\n",
              "      <td>MOATH</td>\n",
              "      <td>1.0</td>\n",
              "      <td>User Not Filled</td>\n",
              "      <td>Group Did Not Recieve Case</td>\n",
              "      <td>Technical</td>\n",
              "      <td>Internet</td>\n",
              "      <td>Technical complaint</td>\n",
              "    </tr>\n",
              "    <tr>\n",
              "      <th>4</th>\n",
              "      <td>FTTH Home</td>\n",
              "      <td>CBU</td>\n",
              "      <td>FTTH Home</td>\n",
              "      <td>Resolved</td>\n",
              "      <td>No</td>\n",
              "      <td>06.07.2022 01:22</td>\n",
              "      <td>IBRAHIM</td>\n",
              "      <td>06.07.2022 01:22</td>\n",
              "      <td>CYC_COMMERCAIL_TEAM</td>\n",
              "      <td>IBRAHIM</td>\n",
              "      <td>1.0</td>\n",
              "      <td>User Not Filled</td>\n",
              "      <td>CBU - CC 1st Layer A</td>\n",
              "      <td>Technical</td>\n",
              "      <td>Internet</td>\n",
              "      <td>Technical complaint</td>\n",
              "    </tr>\n",
              "  </tbody>\n",
              "</table>\n",
              "</div>\n",
              "      <button class=\"colab-df-convert\" onclick=\"convertToInteractive('df-58475798-9b26-4c6f-bacc-ce11d22d8186')\"\n",
              "              title=\"Convert this dataframe to an interactive table.\"\n",
              "              style=\"display:none;\">\n",
              "        \n",
              "  <svg xmlns=\"http://www.w3.org/2000/svg\" height=\"24px\"viewBox=\"0 0 24 24\"\n",
              "       width=\"24px\">\n",
              "    <path d=\"M0 0h24v24H0V0z\" fill=\"none\"/>\n",
              "    <path d=\"M18.56 5.44l.94 2.06.94-2.06 2.06-.94-2.06-.94-.94-2.06-.94 2.06-2.06.94zm-11 1L8.5 8.5l.94-2.06 2.06-.94-2.06-.94L8.5 2.5l-.94 2.06-2.06.94zm10 10l.94 2.06.94-2.06 2.06-.94-2.06-.94-.94-2.06-.94 2.06-2.06.94z\"/><path d=\"M17.41 7.96l-1.37-1.37c-.4-.4-.92-.59-1.43-.59-.52 0-1.04.2-1.43.59L10.3 9.45l-7.72 7.72c-.78.78-.78 2.05 0 2.83L4 21.41c.39.39.9.59 1.41.59.51 0 1.02-.2 1.41-.59l7.78-7.78 2.81-2.81c.8-.78.8-2.07 0-2.86zM5.41 20L4 18.59l7.72-7.72 1.47 1.35L5.41 20z\"/>\n",
              "  </svg>\n",
              "      </button>\n",
              "      \n",
              "  <style>\n",
              "    .colab-df-container {\n",
              "      display:flex;\n",
              "      flex-wrap:wrap;\n",
              "      gap: 12px;\n",
              "    }\n",
              "\n",
              "    .colab-df-convert {\n",
              "      background-color: #E8F0FE;\n",
              "      border: none;\n",
              "      border-radius: 50%;\n",
              "      cursor: pointer;\n",
              "      display: none;\n",
              "      fill: #1967D2;\n",
              "      height: 32px;\n",
              "      padding: 0 0 0 0;\n",
              "      width: 32px;\n",
              "    }\n",
              "\n",
              "    .colab-df-convert:hover {\n",
              "      background-color: #E2EBFA;\n",
              "      box-shadow: 0px 1px 2px rgba(60, 64, 67, 0.3), 0px 1px 3px 1px rgba(60, 64, 67, 0.15);\n",
              "      fill: #174EA6;\n",
              "    }\n",
              "\n",
              "    [theme=dark] .colab-df-convert {\n",
              "      background-color: #3B4455;\n",
              "      fill: #D2E3FC;\n",
              "    }\n",
              "\n",
              "    [theme=dark] .colab-df-convert:hover {\n",
              "      background-color: #434B5C;\n",
              "      box-shadow: 0px 1px 3px 1px rgba(0, 0, 0, 0.15);\n",
              "      filter: drop-shadow(0px 1px 2px rgba(0, 0, 0, 0.3));\n",
              "      fill: #FFFFFF;\n",
              "    }\n",
              "  </style>\n",
              "\n",
              "      <script>\n",
              "        const buttonEl =\n",
              "          document.querySelector('#df-58475798-9b26-4c6f-bacc-ce11d22d8186 button.colab-df-convert');\n",
              "        buttonEl.style.display =\n",
              "          google.colab.kernel.accessAllowed ? 'block' : 'none';\n",
              "\n",
              "        async function convertToInteractive(key) {\n",
              "          const element = document.querySelector('#df-58475798-9b26-4c6f-bacc-ce11d22d8186');\n",
              "          const dataTable =\n",
              "            await google.colab.kernel.invokeFunction('convertToInteractive',\n",
              "                                                     [key], {});\n",
              "          if (!dataTable) return;\n",
              "\n",
              "          const docLinkHtml = 'Like what you see? Visit the ' +\n",
              "            '<a target=\"_blank\" href=https://colab.research.google.com/notebooks/data_table.ipynb>data table notebook</a>'\n",
              "            + ' to learn more about interactive tables.';\n",
              "          element.innerHTML = '';\n",
              "          dataTable['output_type'] = 'display_data';\n",
              "          await google.colab.output.renderOutput(dataTable, element);\n",
              "          const docLink = document.createElement('div');\n",
              "          docLink.innerHTML = docLinkHtml;\n",
              "          element.appendChild(docLink);\n",
              "        }\n",
              "      </script>\n",
              "    </div>\n",
              "  </div>\n",
              "  "
            ]
          },
          "metadata": {},
          "execution_count": 21
        }
      ]
    },
    {
      "cell_type": "markdown",
      "source": [
        "_*Now, that we've cleaned the data, the following statement is to check whether missing values still exist within the DataFrame_ "
      ],
      "metadata": {
        "id": "C1RaEgiogbyc"
      }
    },
    {
      "cell_type": "code",
      "source": [
        "null = DF.isnull().sum()\n",
        "null"
      ],
      "metadata": {
        "id": "hKnd--9Pg0EV",
        "colab": {
          "base_uri": "https://localhost:8080/"
        },
        "outputId": "aedb06dd-5bd2-4a2e-c2a8-9c7ffe62719d"
      },
      "execution_count": 22,
      "outputs": [
        {
          "output_type": "execute_result",
          "data": {
            "text/plain": [
              "OFFER_NAME          0\n",
              "CUSTOMER_TYPE       0\n",
              "CUSTOMER_GROUP      0\n",
              "CURRENT_STATUS      0\n",
              "ESCALATION_FLAG     0\n",
              "OPEN_DATE           0\n",
              "OPEN_USER           0\n",
              "CLOSE_DATE          0\n",
              "CLOSE_GROUP         0\n",
              "CLOSE_USER          0\n",
              "AGE_BRACKET         0\n",
              "ACTUAL_COMPLAINT    0\n",
              "OPEN_GR             0\n",
              "COMPLAINT_TYPE      0\n",
              "PRODUCT             0\n",
              "CASE                0\n",
              "dtype: int64"
            ]
          },
          "metadata": {},
          "execution_count": 22
        }
      ]
    },
    {
      "cell_type": "markdown",
      "source": [
        "##Changing the categorical data into numerical data"
      ],
      "metadata": {
        "id": "PpKNHP4pqP-h"
      }
    },
    {
      "cell_type": "code",
      "source": [
        "categories = DF.select_dtypes(['object']).columns\n",
        "from sklearn.preprocessing import LabelEncoder\n",
        "LE = LabelEncoder()\n",
        "DF[categories] = DF[categories].apply(lambda x: pd.factorize(x)[0])\n",
        "\n",
        "DF.head()"
      ],
      "metadata": {
        "id": "3HaOHyOgEjVR",
        "colab": {
          "base_uri": "https://localhost:8080/",
          "height": 0
        },
        "outputId": "2392731f-28d0-4bb5-c957-f688f1fad95c"
      },
      "execution_count": 23,
      "outputs": [
        {
          "output_type": "execute_result",
          "data": {
            "text/plain": [
              "   OFFER_NAME  CUSTOMER_TYPE  CUSTOMER_GROUP  CURRENT_STATUS  ESCALATION_FLAG  \\\n",
              "0           0              0               0               0                0   \n",
              "1           0              0               0               0                0   \n",
              "2           1              0               1               0                1   \n",
              "3           0              0               0               0                1   \n",
              "4           0              0               0               0                1   \n",
              "\n",
              "   OPEN_DATE  OPEN_USER  CLOSE_DATE  CLOSE_GROUP  CLOSE_USER  AGE_BRACKET  \\\n",
              "0          0          0           0            0           0            0   \n",
              "1          1          1           1            1           1            1   \n",
              "2          2          2           2            2           2            1   \n",
              "3          3          3           3            3           3            1   \n",
              "4          4          4           4            2           4            1   \n",
              "\n",
              "   ACTUAL_COMPLAINT  OPEN_GR  COMPLAINT_TYPE  PRODUCT  CASE  \n",
              "0                 0        0               0        0     0  \n",
              "1                 1        1               1        1     1  \n",
              "2                 2        2               0        0     0  \n",
              "3                 2        3               0        0     0  \n",
              "4                 2        2               0        0     0  "
            ],
            "text/html": [
              "\n",
              "  <div id=\"df-4b19db73-c3bf-49c3-bf83-08600c5b8c5d\">\n",
              "    <div class=\"colab-df-container\">\n",
              "      <div>\n",
              "<style scoped>\n",
              "    .dataframe tbody tr th:only-of-type {\n",
              "        vertical-align: middle;\n",
              "    }\n",
              "\n",
              "    .dataframe tbody tr th {\n",
              "        vertical-align: top;\n",
              "    }\n",
              "\n",
              "    .dataframe thead th {\n",
              "        text-align: right;\n",
              "    }\n",
              "</style>\n",
              "<table border=\"1\" class=\"dataframe\">\n",
              "  <thead>\n",
              "    <tr style=\"text-align: right;\">\n",
              "      <th></th>\n",
              "      <th>OFFER_NAME</th>\n",
              "      <th>CUSTOMER_TYPE</th>\n",
              "      <th>CUSTOMER_GROUP</th>\n",
              "      <th>CURRENT_STATUS</th>\n",
              "      <th>ESCALATION_FLAG</th>\n",
              "      <th>OPEN_DATE</th>\n",
              "      <th>OPEN_USER</th>\n",
              "      <th>CLOSE_DATE</th>\n",
              "      <th>CLOSE_GROUP</th>\n",
              "      <th>CLOSE_USER</th>\n",
              "      <th>AGE_BRACKET</th>\n",
              "      <th>ACTUAL_COMPLAINT</th>\n",
              "      <th>OPEN_GR</th>\n",
              "      <th>COMPLAINT_TYPE</th>\n",
              "      <th>PRODUCT</th>\n",
              "      <th>CASE</th>\n",
              "    </tr>\n",
              "  </thead>\n",
              "  <tbody>\n",
              "    <tr>\n",
              "      <th>0</th>\n",
              "      <td>0</td>\n",
              "      <td>0</td>\n",
              "      <td>0</td>\n",
              "      <td>0</td>\n",
              "      <td>0</td>\n",
              "      <td>0</td>\n",
              "      <td>0</td>\n",
              "      <td>0</td>\n",
              "      <td>0</td>\n",
              "      <td>0</td>\n",
              "      <td>0</td>\n",
              "      <td>0</td>\n",
              "      <td>0</td>\n",
              "      <td>0</td>\n",
              "      <td>0</td>\n",
              "      <td>0</td>\n",
              "    </tr>\n",
              "    <tr>\n",
              "      <th>1</th>\n",
              "      <td>0</td>\n",
              "      <td>0</td>\n",
              "      <td>0</td>\n",
              "      <td>0</td>\n",
              "      <td>0</td>\n",
              "      <td>1</td>\n",
              "      <td>1</td>\n",
              "      <td>1</td>\n",
              "      <td>1</td>\n",
              "      <td>1</td>\n",
              "      <td>1</td>\n",
              "      <td>1</td>\n",
              "      <td>1</td>\n",
              "      <td>1</td>\n",
              "      <td>1</td>\n",
              "      <td>1</td>\n",
              "    </tr>\n",
              "    <tr>\n",
              "      <th>2</th>\n",
              "      <td>1</td>\n",
              "      <td>0</td>\n",
              "      <td>1</td>\n",
              "      <td>0</td>\n",
              "      <td>1</td>\n",
              "      <td>2</td>\n",
              "      <td>2</td>\n",
              "      <td>2</td>\n",
              "      <td>2</td>\n",
              "      <td>2</td>\n",
              "      <td>1</td>\n",
              "      <td>2</td>\n",
              "      <td>2</td>\n",
              "      <td>0</td>\n",
              "      <td>0</td>\n",
              "      <td>0</td>\n",
              "    </tr>\n",
              "    <tr>\n",
              "      <th>3</th>\n",
              "      <td>0</td>\n",
              "      <td>0</td>\n",
              "      <td>0</td>\n",
              "      <td>0</td>\n",
              "      <td>1</td>\n",
              "      <td>3</td>\n",
              "      <td>3</td>\n",
              "      <td>3</td>\n",
              "      <td>3</td>\n",
              "      <td>3</td>\n",
              "      <td>1</td>\n",
              "      <td>2</td>\n",
              "      <td>3</td>\n",
              "      <td>0</td>\n",
              "      <td>0</td>\n",
              "      <td>0</td>\n",
              "    </tr>\n",
              "    <tr>\n",
              "      <th>4</th>\n",
              "      <td>0</td>\n",
              "      <td>0</td>\n",
              "      <td>0</td>\n",
              "      <td>0</td>\n",
              "      <td>1</td>\n",
              "      <td>4</td>\n",
              "      <td>4</td>\n",
              "      <td>4</td>\n",
              "      <td>2</td>\n",
              "      <td>4</td>\n",
              "      <td>1</td>\n",
              "      <td>2</td>\n",
              "      <td>2</td>\n",
              "      <td>0</td>\n",
              "      <td>0</td>\n",
              "      <td>0</td>\n",
              "    </tr>\n",
              "  </tbody>\n",
              "</table>\n",
              "</div>\n",
              "      <button class=\"colab-df-convert\" onclick=\"convertToInteractive('df-4b19db73-c3bf-49c3-bf83-08600c5b8c5d')\"\n",
              "              title=\"Convert this dataframe to an interactive table.\"\n",
              "              style=\"display:none;\">\n",
              "        \n",
              "  <svg xmlns=\"http://www.w3.org/2000/svg\" height=\"24px\"viewBox=\"0 0 24 24\"\n",
              "       width=\"24px\">\n",
              "    <path d=\"M0 0h24v24H0V0z\" fill=\"none\"/>\n",
              "    <path d=\"M18.56 5.44l.94 2.06.94-2.06 2.06-.94-2.06-.94-.94-2.06-.94 2.06-2.06.94zm-11 1L8.5 8.5l.94-2.06 2.06-.94-2.06-.94L8.5 2.5l-.94 2.06-2.06.94zm10 10l.94 2.06.94-2.06 2.06-.94-2.06-.94-.94-2.06-.94 2.06-2.06.94z\"/><path d=\"M17.41 7.96l-1.37-1.37c-.4-.4-.92-.59-1.43-.59-.52 0-1.04.2-1.43.59L10.3 9.45l-7.72 7.72c-.78.78-.78 2.05 0 2.83L4 21.41c.39.39.9.59 1.41.59.51 0 1.02-.2 1.41-.59l7.78-7.78 2.81-2.81c.8-.78.8-2.07 0-2.86zM5.41 20L4 18.59l7.72-7.72 1.47 1.35L5.41 20z\"/>\n",
              "  </svg>\n",
              "      </button>\n",
              "      \n",
              "  <style>\n",
              "    .colab-df-container {\n",
              "      display:flex;\n",
              "      flex-wrap:wrap;\n",
              "      gap: 12px;\n",
              "    }\n",
              "\n",
              "    .colab-df-convert {\n",
              "      background-color: #E8F0FE;\n",
              "      border: none;\n",
              "      border-radius: 50%;\n",
              "      cursor: pointer;\n",
              "      display: none;\n",
              "      fill: #1967D2;\n",
              "      height: 32px;\n",
              "      padding: 0 0 0 0;\n",
              "      width: 32px;\n",
              "    }\n",
              "\n",
              "    .colab-df-convert:hover {\n",
              "      background-color: #E2EBFA;\n",
              "      box-shadow: 0px 1px 2px rgba(60, 64, 67, 0.3), 0px 1px 3px 1px rgba(60, 64, 67, 0.15);\n",
              "      fill: #174EA6;\n",
              "    }\n",
              "\n",
              "    [theme=dark] .colab-df-convert {\n",
              "      background-color: #3B4455;\n",
              "      fill: #D2E3FC;\n",
              "    }\n",
              "\n",
              "    [theme=dark] .colab-df-convert:hover {\n",
              "      background-color: #434B5C;\n",
              "      box-shadow: 0px 1px 3px 1px rgba(0, 0, 0, 0.15);\n",
              "      filter: drop-shadow(0px 1px 2px rgba(0, 0, 0, 0.3));\n",
              "      fill: #FFFFFF;\n",
              "    }\n",
              "  </style>\n",
              "\n",
              "      <script>\n",
              "        const buttonEl =\n",
              "          document.querySelector('#df-4b19db73-c3bf-49c3-bf83-08600c5b8c5d button.colab-df-convert');\n",
              "        buttonEl.style.display =\n",
              "          google.colab.kernel.accessAllowed ? 'block' : 'none';\n",
              "\n",
              "        async function convertToInteractive(key) {\n",
              "          const element = document.querySelector('#df-4b19db73-c3bf-49c3-bf83-08600c5b8c5d');\n",
              "          const dataTable =\n",
              "            await google.colab.kernel.invokeFunction('convertToInteractive',\n",
              "                                                     [key], {});\n",
              "          if (!dataTable) return;\n",
              "\n",
              "          const docLinkHtml = 'Like what you see? Visit the ' +\n",
              "            '<a target=\"_blank\" href=https://colab.research.google.com/notebooks/data_table.ipynb>data table notebook</a>'\n",
              "            + ' to learn more about interactive tables.';\n",
              "          element.innerHTML = '';\n",
              "          dataTable['output_type'] = 'display_data';\n",
              "          await google.colab.output.renderOutput(dataTable, element);\n",
              "          const docLink = document.createElement('div');\n",
              "          docLink.innerHTML = docLinkHtml;\n",
              "          element.appendChild(docLink);\n",
              "        }\n",
              "      </script>\n",
              "    </div>\n",
              "  </div>\n",
              "  "
            ]
          },
          "metadata": {},
          "execution_count": 23
        }
      ]
    },
    {
      "cell_type": "markdown",
      "source": [
        "##We Should Slice the data by using Train_test_split"
      ],
      "metadata": {
        "id": "vsAQtpc3qC4j"
      }
    },
    {
      "cell_type": "code",
      "source": [
        "x2 = DF.drop(['COMPLAINT_TYPE', 'ESCALATION_FLAG' , 'ACTUAL_COMPLAINT', 'CLOSE_DATE' , 'OPEN_DATE'], axis = 1)\n",
        "y2 = DF['COMPLAINT_TYPE']\n",
        "\n",
        "x_train , x_test , y_train , y_test = train_test_split(x2 , y2 , test_size = 0.2)"
      ],
      "metadata": {
        "id": "Xmwv_8v0Eji5"
      },
      "execution_count": 24,
      "outputs": []
    },
    {
      "cell_type": "markdown",
      "source": [
        "##First Model: GaussianNB\n"
      ],
      "metadata": {
        "id": "24bX9-jUqdT0"
      }
    },
    {
      "cell_type": "code",
      "source": [
        "from numpy.core.numerictypes import nbytes\n",
        "NB = GaussianNB()\n",
        "NB_acc = []\n",
        "NB_rca = []\n",
        "NB_prc = []\n",
        "NB_f1 = []\n",
        "\n",
        "for f in range(30):\n",
        "  NB = NB.fit(x_train , y_train)\n",
        "\n",
        "  y_pred = NB.predict(x_test)\n",
        "\n",
        "  acc1 = accuracy_score(y_test , y_pred)\n",
        "  NB_acc.append(acc1)\n",
        "\n",
        "  rca1 = recall_score(y_test , y_pred)\n",
        "  NB_rca.append(rca1)\n",
        "\n",
        "  prc1 = precision_score(y_test , y_pred)\n",
        "  NB_prc.append(prc1)\n",
        "\n",
        "  f1_1 = f1_score(y_test , y_pred)\n",
        "  NB_f1.append(f1_1)\n",
        "\n",
        "nbacc = sum(NB_acc)/len(NB_acc)\n",
        "nbprc = sum(NB_prc)/len(NB_prc)\n",
        "nbrca = sum(NB_rca)/len(NB_rca)\n",
        "nbf1  = sum(NB_f1)/len(NB_f1)\n"
      ],
      "metadata": {
        "id": "aZ_p2UxeEjdU"
      },
      "execution_count": 25,
      "outputs": []
    },
    {
      "cell_type": "code",
      "source": [
        "print('Accuracy: ', nbacc)\n",
        "print(\"Precision: \", nbprc)\n",
        "print(\"Recall: \", nbrca)\n",
        "print(\"F1_score: \", nbf1)"
      ],
      "metadata": {
        "id": "fy5z10VbEjgN",
        "colab": {
          "base_uri": "https://localhost:8080/"
        },
        "outputId": "af5444dd-f221-4fb6-e660-434e57a19b6b"
      },
      "execution_count": 26,
      "outputs": [
        {
          "output_type": "stream",
          "name": "stdout",
          "text": [
            "Accuracy:  0.8319731156985112\n",
            "Precision:  0.6531914893617025\n",
            "Recall:  0.6214574898785427\n",
            "F1_score:  0.6369294605809125\n"
          ]
        }
      ]
    },
    {
      "cell_type": "code",
      "source": [
        "from sklearn.metrics import classification_report\n",
        "print(classification_report(y_test, y_pred))"
      ],
      "metadata": {
        "id": "cPQSOwgM8MHj",
        "colab": {
          "base_uri": "https://localhost:8080/"
        },
        "outputId": "0ed11235-e9d9-4bca-abd8-e056144d3140"
      },
      "execution_count": 27,
      "outputs": [
        {
          "output_type": "stream",
          "name": "stdout",
          "text": [
            "              precision    recall  f1-score   support\n",
            "\n",
            "           0       0.88      0.90      0.89      1589\n",
            "           1       0.65      0.62      0.64       494\n",
            "\n",
            "    accuracy                           0.83      2083\n",
            "   macro avg       0.77      0.76      0.76      2083\n",
            "weighted avg       0.83      0.83      0.83      2083\n",
            "\n"
          ]
        }
      ]
    },
    {
      "cell_type": "markdown",
      "source": [
        "##Second Model: Decision Tree\n",
        "\n"
      ],
      "metadata": {
        "id": "SXTCpDgfqxjb"
      }
    },
    {
      "cell_type": "code",
      "source": [
        "DT = DecisionTreeClassifier()\n",
        "\n",
        "DT_acc = []\n",
        "DT_rca = []\n",
        "DT_prc = []\n",
        "DT_f1 = []\n",
        "\n",
        "for o in range(30):\n",
        "  DT.fit(x_train , y_train)\n",
        "  y_pred = DT.predict(x_test)\n",
        "\n",
        "  acc2 = accuracy_score(y_test , y_pred)\n",
        "  DT_acc.append(acc2)\n",
        "\n",
        "  rca2 = recall_score(y_test , y_pred)\n",
        "  DT_rca.append(rca2)\n",
        "\n",
        "  prc2 = precision_score(y_test , y_pred)\n",
        "  DT_prc.append(prc2)\n",
        "\n",
        "  f1_2 = f1_score(y_test , y_pred)\n",
        "  DT_f1.append(f1_2)\n",
        "\n",
        "dtacc = sum(DT_acc)/len(DT_acc)\n",
        "dtprc = sum(DT_prc)/len(DT_prc)\n",
        "dtrca = sum(DT_rca)/len(DT_rca)\n",
        "dtf1  = sum(DT_f1)/len(DT_f1)"
      ],
      "metadata": {
        "id": "GFBoY9pToBhZ"
      },
      "execution_count": 28,
      "outputs": []
    },
    {
      "cell_type": "code",
      "source": [
        "print('Accuracy: ', dtacc)\n",
        "print(\"Precision: \", dtprc)\n",
        "print(\"Recall: \", dtrca)\n",
        "print(\"F1_score: \", dtf1)"
      ],
      "metadata": {
        "id": "ULJWVnpPoBpW",
        "colab": {
          "base_uri": "https://localhost:8080/"
        },
        "outputId": "210d18e2-369a-477d-88df-9c00ea5d82ad"
      },
      "execution_count": 29,
      "outputs": [
        {
          "output_type": "stream",
          "name": "stdout",
          "text": [
            "Accuracy:  0.9899343895023202\n",
            "Precision:  0.9793962451884012\n",
            "Recall:  0.9781376518218626\n",
            "F1_score:  0.9787656396316865\n"
          ]
        }
      ]
    },
    {
      "cell_type": "code",
      "source": [
        "from sklearn.metrics import classification_report\n",
        "print(classification_report(y_test, y_pred))"
      ],
      "metadata": {
        "id": "MGp8iuCa7i8_",
        "colab": {
          "base_uri": "https://localhost:8080/"
        },
        "outputId": "d36aa480-57d9-4a85-b79b-405ac44b7545"
      },
      "execution_count": 30,
      "outputs": [
        {
          "output_type": "stream",
          "name": "stdout",
          "text": [
            "              precision    recall  f1-score   support\n",
            "\n",
            "           0       0.99      0.99      0.99      1589\n",
            "           1       0.98      0.98      0.98       494\n",
            "\n",
            "    accuracy                           0.99      2083\n",
            "   macro avg       0.98      0.99      0.98      2083\n",
            "weighted avg       0.99      0.99      0.99      2083\n",
            "\n"
          ]
        }
      ]
    },
    {
      "cell_type": "markdown",
      "source": [
        "##Third Model: KNeighborsClassifier\n",
        "\n"
      ],
      "metadata": {
        "id": "5EJbw8IMq7z0"
      }
    },
    {
      "cell_type": "code",
      "source": [
        "knn = KNeighborsClassifier(n_neighbors = 3)\n",
        "\n",
        "knn_acc = []\n",
        "knn_rca = []\n",
        "knn_prc = []\n",
        "knn_f1 = []\n",
        "\n",
        "for m in range(30):\n",
        "\n",
        "  knn.fit(x_train , y_train)\n",
        "\n",
        "  y_pred = knn.predict(x_test)  \n",
        "\n",
        "  acc3 = accuracy_score(y_test , y_pred)\n",
        "  knn_acc.append(acc3)\n",
        "\n",
        "  rca3 = recall_score(y_test , y_pred)\n",
        "  knn_rca.append(rca3)\n",
        "\n",
        "  prc3 = precision_score(y_test , y_pred)\n",
        "  knn_prc.append(prc3)\n",
        "\n",
        "  f1_3 = f1_score(y_test , y_pred)\n",
        "  knn_f1.append(f1_3)\n",
        "\n",
        "knnacc = sum(knn_acc)/len(knn_acc)\n",
        "knnprc = sum(knn_prc)/len(knn_prc)\n",
        "knnrca = sum(knn_rca)/len(knn_rca)\n",
        "knnf1  = sum(knn_f1)/len(knn_f1)"
      ],
      "metadata": {
        "id": "rkTzNEq8pe44"
      },
      "execution_count": 31,
      "outputs": []
    },
    {
      "cell_type": "code",
      "source": [
        "df = pd.DataFrame({'Actual':y_test, 'Predicted':y_pred})\n",
        "df.to_csv('out.csv')\n",
        "df\n",
        "\n",
        "\n"
      ],
      "metadata": {
        "id": "5slsYSq3UUgK",
        "colab": {
          "base_uri": "https://localhost:8080/",
          "height": 0
        },
        "outputId": "41920506-15a4-42fa-fc83-b0fc6be6bc37"
      },
      "execution_count": 32,
      "outputs": [
        {
          "output_type": "execute_result",
          "data": {
            "text/plain": [
              "       Actual  Predicted\n",
              "6223        0          0\n",
              "9069        1          1\n",
              "1287        1          1\n",
              "7150        0          0\n",
              "4939        0          0\n",
              "...       ...        ...\n",
              "10342       0          0\n",
              "6241        0          0\n",
              "9955        1          1\n",
              "1052        0          0\n",
              "189         0          0\n",
              "\n",
              "[2083 rows x 2 columns]"
            ],
            "text/html": [
              "\n",
              "  <div id=\"df-43685cad-6073-4a7a-897b-8010d46d0626\">\n",
              "    <div class=\"colab-df-container\">\n",
              "      <div>\n",
              "<style scoped>\n",
              "    .dataframe tbody tr th:only-of-type {\n",
              "        vertical-align: middle;\n",
              "    }\n",
              "\n",
              "    .dataframe tbody tr th {\n",
              "        vertical-align: top;\n",
              "    }\n",
              "\n",
              "    .dataframe thead th {\n",
              "        text-align: right;\n",
              "    }\n",
              "</style>\n",
              "<table border=\"1\" class=\"dataframe\">\n",
              "  <thead>\n",
              "    <tr style=\"text-align: right;\">\n",
              "      <th></th>\n",
              "      <th>Actual</th>\n",
              "      <th>Predicted</th>\n",
              "    </tr>\n",
              "  </thead>\n",
              "  <tbody>\n",
              "    <tr>\n",
              "      <th>6223</th>\n",
              "      <td>0</td>\n",
              "      <td>0</td>\n",
              "    </tr>\n",
              "    <tr>\n",
              "      <th>9069</th>\n",
              "      <td>1</td>\n",
              "      <td>1</td>\n",
              "    </tr>\n",
              "    <tr>\n",
              "      <th>1287</th>\n",
              "      <td>1</td>\n",
              "      <td>1</td>\n",
              "    </tr>\n",
              "    <tr>\n",
              "      <th>7150</th>\n",
              "      <td>0</td>\n",
              "      <td>0</td>\n",
              "    </tr>\n",
              "    <tr>\n",
              "      <th>4939</th>\n",
              "      <td>0</td>\n",
              "      <td>0</td>\n",
              "    </tr>\n",
              "    <tr>\n",
              "      <th>...</th>\n",
              "      <td>...</td>\n",
              "      <td>...</td>\n",
              "    </tr>\n",
              "    <tr>\n",
              "      <th>10342</th>\n",
              "      <td>0</td>\n",
              "      <td>0</td>\n",
              "    </tr>\n",
              "    <tr>\n",
              "      <th>6241</th>\n",
              "      <td>0</td>\n",
              "      <td>0</td>\n",
              "    </tr>\n",
              "    <tr>\n",
              "      <th>9955</th>\n",
              "      <td>1</td>\n",
              "      <td>1</td>\n",
              "    </tr>\n",
              "    <tr>\n",
              "      <th>1052</th>\n",
              "      <td>0</td>\n",
              "      <td>0</td>\n",
              "    </tr>\n",
              "    <tr>\n",
              "      <th>189</th>\n",
              "      <td>0</td>\n",
              "      <td>0</td>\n",
              "    </tr>\n",
              "  </tbody>\n",
              "</table>\n",
              "<p>2083 rows × 2 columns</p>\n",
              "</div>\n",
              "      <button class=\"colab-df-convert\" onclick=\"convertToInteractive('df-43685cad-6073-4a7a-897b-8010d46d0626')\"\n",
              "              title=\"Convert this dataframe to an interactive table.\"\n",
              "              style=\"display:none;\">\n",
              "        \n",
              "  <svg xmlns=\"http://www.w3.org/2000/svg\" height=\"24px\"viewBox=\"0 0 24 24\"\n",
              "       width=\"24px\">\n",
              "    <path d=\"M0 0h24v24H0V0z\" fill=\"none\"/>\n",
              "    <path d=\"M18.56 5.44l.94 2.06.94-2.06 2.06-.94-2.06-.94-.94-2.06-.94 2.06-2.06.94zm-11 1L8.5 8.5l.94-2.06 2.06-.94-2.06-.94L8.5 2.5l-.94 2.06-2.06.94zm10 10l.94 2.06.94-2.06 2.06-.94-2.06-.94-.94-2.06-.94 2.06-2.06.94z\"/><path d=\"M17.41 7.96l-1.37-1.37c-.4-.4-.92-.59-1.43-.59-.52 0-1.04.2-1.43.59L10.3 9.45l-7.72 7.72c-.78.78-.78 2.05 0 2.83L4 21.41c.39.39.9.59 1.41.59.51 0 1.02-.2 1.41-.59l7.78-7.78 2.81-2.81c.8-.78.8-2.07 0-2.86zM5.41 20L4 18.59l7.72-7.72 1.47 1.35L5.41 20z\"/>\n",
              "  </svg>\n",
              "      </button>\n",
              "      \n",
              "  <style>\n",
              "    .colab-df-container {\n",
              "      display:flex;\n",
              "      flex-wrap:wrap;\n",
              "      gap: 12px;\n",
              "    }\n",
              "\n",
              "    .colab-df-convert {\n",
              "      background-color: #E8F0FE;\n",
              "      border: none;\n",
              "      border-radius: 50%;\n",
              "      cursor: pointer;\n",
              "      display: none;\n",
              "      fill: #1967D2;\n",
              "      height: 32px;\n",
              "      padding: 0 0 0 0;\n",
              "      width: 32px;\n",
              "    }\n",
              "\n",
              "    .colab-df-convert:hover {\n",
              "      background-color: #E2EBFA;\n",
              "      box-shadow: 0px 1px 2px rgba(60, 64, 67, 0.3), 0px 1px 3px 1px rgba(60, 64, 67, 0.15);\n",
              "      fill: #174EA6;\n",
              "    }\n",
              "\n",
              "    [theme=dark] .colab-df-convert {\n",
              "      background-color: #3B4455;\n",
              "      fill: #D2E3FC;\n",
              "    }\n",
              "\n",
              "    [theme=dark] .colab-df-convert:hover {\n",
              "      background-color: #434B5C;\n",
              "      box-shadow: 0px 1px 3px 1px rgba(0, 0, 0, 0.15);\n",
              "      filter: drop-shadow(0px 1px 2px rgba(0, 0, 0, 0.3));\n",
              "      fill: #FFFFFF;\n",
              "    }\n",
              "  </style>\n",
              "\n",
              "      <script>\n",
              "        const buttonEl =\n",
              "          document.querySelector('#df-43685cad-6073-4a7a-897b-8010d46d0626 button.colab-df-convert');\n",
              "        buttonEl.style.display =\n",
              "          google.colab.kernel.accessAllowed ? 'block' : 'none';\n",
              "\n",
              "        async function convertToInteractive(key) {\n",
              "          const element = document.querySelector('#df-43685cad-6073-4a7a-897b-8010d46d0626');\n",
              "          const dataTable =\n",
              "            await google.colab.kernel.invokeFunction('convertToInteractive',\n",
              "                                                     [key], {});\n",
              "          if (!dataTable) return;\n",
              "\n",
              "          const docLinkHtml = 'Like what you see? Visit the ' +\n",
              "            '<a target=\"_blank\" href=https://colab.research.google.com/notebooks/data_table.ipynb>data table notebook</a>'\n",
              "            + ' to learn more about interactive tables.';\n",
              "          element.innerHTML = '';\n",
              "          dataTable['output_type'] = 'display_data';\n",
              "          await google.colab.output.renderOutput(dataTable, element);\n",
              "          const docLink = document.createElement('div');\n",
              "          docLink.innerHTML = docLinkHtml;\n",
              "          element.appendChild(docLink);\n",
              "        }\n",
              "      </script>\n",
              "    </div>\n",
              "  </div>\n",
              "  "
            ]
          },
          "metadata": {},
          "execution_count": 32
        }
      ]
    },
    {
      "cell_type": "code",
      "source": [
        "print('Accuracy: ', knnacc)\n",
        "print('Precision: ', knnprc)\n",
        "print('Recall: ', knnrca)\n",
        "print('F1_score: ', knnf1)\n"
      ],
      "metadata": {
        "id": "5j7bR7xjpfCQ",
        "colab": {
          "base_uri": "https://localhost:8080/"
        },
        "outputId": "b60f61e1-aaa5-4caa-d0e8-e73d3db02510"
      },
      "execution_count": 33,
      "outputs": [
        {
          "output_type": "stream",
          "name": "stdout",
          "text": [
            "Accuracy:  0.9006240998559772\n",
            "Precision:  0.8224719101123592\n",
            "Recall:  0.7408906882591094\n",
            "F1_score:  0.7795527156549521\n"
          ]
        }
      ]
    },
    {
      "cell_type": "code",
      "source": [
        "from sklearn.metrics import classification_report\n",
        "print(classification_report(y_test, y_pred))"
      ],
      "metadata": {
        "id": "CqK-gDWs7MNr",
        "colab": {
          "base_uri": "https://localhost:8080/"
        },
        "outputId": "a18a9dbb-5605-4fa7-ba4a-9b648cfaa223"
      },
      "execution_count": 34,
      "outputs": [
        {
          "output_type": "stream",
          "name": "stdout",
          "text": [
            "              precision    recall  f1-score   support\n",
            "\n",
            "           0       0.92      0.95      0.94      1589\n",
            "           1       0.82      0.74      0.78       494\n",
            "\n",
            "    accuracy                           0.90      2083\n",
            "   macro avg       0.87      0.85      0.86      2083\n",
            "weighted avg       0.90      0.90      0.90      2083\n",
            "\n"
          ]
        }
      ]
    },
    {
      "cell_type": "markdown",
      "source": [
        "##Fourth Model: Logistic Regression"
      ],
      "metadata": {
        "id": "PZnUvMQJrJAG"
      }
    },
    {
      "cell_type": "code",
      "source": [
        "LR = LogisticRegression(max_iter = 1500)\n",
        "\n",
        "LR_acc = []\n",
        "LR_rca = []\n",
        "LR_prc = []\n",
        "LR_f1 = []\n",
        "\n",
        "for b in range(10):\n",
        "  LR.fit(x_train , y_train)\n",
        "  y_pred = LR.predict(x_test)\n",
        "\n",
        "  acc4 = accuracy_score(y_test , y_pred)\n",
        "  LR_acc.append(acc4)\n",
        "\n",
        "  rca4 = recall_score(y_test , y_pred)\n",
        "  LR_rca.append(rca4)\n",
        "\n",
        "  prc4 = precision_score(y_test , y_pred)\n",
        "  LR_prc.append(prc4)\n",
        "\n",
        "  f1_4 = f1_score(y_test , y_pred)\n",
        "  LR_f1.append(f1_4)\n",
        "\n",
        "lracc = sum(LR_acc)/len(LR_acc)\n",
        "lrprc = sum(LR_prc)/len(LR_prc)\n",
        "lrrca = sum(LR_rca)/len(LR_rca)\n",
        "lrf1  = sum(LR_f1)/len(LR_f1)"
      ],
      "metadata": {
        "id": "YHnK3dy5oznc"
      },
      "execution_count": 35,
      "outputs": []
    },
    {
      "cell_type": "code",
      "source": [
        "print('Accuracy: ', lracc)\n",
        "print(\"Precision: \", lrprc)\n",
        "print(\"Recall: \", lrrca)\n",
        "print(\"F1_score: \", lrf1)"
      ],
      "metadata": {
        "id": "xNDn6ngkozwb",
        "colab": {
          "base_uri": "https://localhost:8080/"
        },
        "outputId": "298356e7-f1dd-418a-dfc1-82c5baeb4333"
      },
      "execution_count": 36,
      "outputs": [
        {
          "output_type": "stream",
          "name": "stdout",
          "text": [
            "Accuracy:  0.9414306289006242\n",
            "Precision:  0.8576923076923075\n",
            "Recall:  0.902834008097166\n",
            "F1_score:  0.8796844181459564\n"
          ]
        }
      ]
    },
    {
      "cell_type": "code",
      "source": [
        "from sklearn.metrics import classification_report\n",
        "print(classification_report(y_test, y_pred))"
      ],
      "metadata": {
        "id": "ujXZtdL_7rXb",
        "colab": {
          "base_uri": "https://localhost:8080/"
        },
        "outputId": "6a8af86a-9403-4dca-b2d5-d65d72743f24"
      },
      "execution_count": 37,
      "outputs": [
        {
          "output_type": "stream",
          "name": "stdout",
          "text": [
            "              precision    recall  f1-score   support\n",
            "\n",
            "           0       0.97      0.95      0.96      1589\n",
            "           1       0.86      0.90      0.88       494\n",
            "\n",
            "    accuracy                           0.94      2083\n",
            "   macro avg       0.91      0.93      0.92      2083\n",
            "weighted avg       0.94      0.94      0.94      2083\n",
            "\n"
          ]
        }
      ]
    },
    {
      "cell_type": "markdown",
      "source": [
        "#Bar plot to show how each model is evaluated with its characteristics"
      ],
      "metadata": {
        "id": "dfrmgZTEBdRT"
      }
    },
    {
      "cell_type": "code",
      "source": [
        "mlm_name = ['NB' , 'DT' , 'KNN' , 'LR']\n",
        "\n",
        "mlm_acc = [nbacc , dtacc , knnacc , lracc]\n",
        "mlm_prc = [nbprc , dtprc , knnprc , lrprc]\n",
        "mlm_rca = [nbrca , dtrca , knnrca , lrrca]\n",
        "mlm_f1  = [nbf1 , dtf1 , knnf1 , lrf1]\n",
        "\n",
        "x_axis = np.arange(len(mlm_name))\n",
        "\n",
        "plt.bar(x_axis+0.15 , mlm_acc , color = 'orange' , width =0.15, edgecolor = 'black' , label = 'Accuracy')\n",
        "plt.bar(x_axis+0.3 , mlm_prc , color ='green' , width = 0.15 , edgecolor = 'black' , label = 'Precision')\n",
        "plt.bar(x_axis+0.45,mlm_rca,color ='blue',  width = 0.15 , edgecolor = 'black' , label = 'Recall')\n",
        "plt.bar(x_axis+0.6 , mlm_f1 , color = 'red' , width = 0.15 , edgecolor = 'black' , label = ' F1_Score')\n",
        "plt.xticks(x_axis+0.25, mlm_name)\n",
        "plt.legend(bbox_to_anchor=(1,1))\n",
        "\n",
        "plt.xlabel(\"Machine learning models\")\n",
        "plt.ylabel(\"Percentage\")\n",
        "plt.title(\"Summary of Results\")\n",
        "plt.show()\n"
      ],
      "metadata": {
        "id": "Ix2Fe1goV0Ww",
        "colab": {
          "base_uri": "https://localhost:8080/",
          "height": 295
        },
        "outputId": "47144f62-d457-437b-9be0-dab5c00366af"
      },
      "execution_count": 38,
      "outputs": [
        {
          "output_type": "display_data",
          "data": {
            "text/plain": [
              "<Figure size 432x288 with 1 Axes>"
            ],
            "image/png": "[encoded data removed]"
          },
          "metadata": {
            "needs_background": "light"
          }
        }
      ]
    },
    {
      "cell_type": "markdown",
      "source": [
        "#Box plot to show the model evaluation measures. And how each measure is shown"
      ],
      "metadata": {
        "id": "N00MD2dyBo5f"
      }
    },
    {
      "cell_type": "code",
      "source": [
        "acc_NB = np.array(NB_acc)\n",
        "acc_DT = np.array(DT_acc)\n",
        "acc_KNN = np.array(knn_acc)\n",
        "acc_LR  = np.array(LR_acc)\n",
        "\n",
        "dict = {'NB' : acc_NB , 'DT' : acc_DT , 'KNN' : acc_KNN , 'LR' : acc_LR}\n",
        "\n",
        "fig, ax = plt.subplots()\n",
        "fig.suptitle('Model Accuracy Comparison' , fontsize = 14)\n",
        "ax.boxplot(dict.values())\n",
        "ax.set_xticklabels(dict.keys())\n",
        "plt.show()\n"
      ],
      "metadata": {
        "id": "PyU21Lh9V0Zh",
        "colab": {
          "base_uri": "https://localhost:8080/",
          "height": 0
        },
        "outputId": "e9e6bffa-d8b5-43e4-ef73-e223a8bb5b88"
      },
      "execution_count": 39,
      "outputs": [
        {
          "output_type": "stream",
          "name": "stderr",
          "text": [
            "/usr/local/lib/python3.8/dist-packages/matplotlib/cbook/__init__.py:1376: VisibleDeprecationWarning: Creating an ndarray from ragged nested sequences (which is a list-or-tuple of lists-or-tuples-or ndarrays with different lengths or shapes) is deprecated. If you meant to do this, you must specify 'dtype=object' when creating the ndarray.\n",
            "  X = np.atleast_1d(X.T if isinstance(X, np.ndarray) else np.asarray(X))\n"
          ]
        },
        {
          "output_type": "display_data",
          "data": {
            "text/plain": [
              "<Figure size 432x288 with 1 Axes>"
            ],
            "image/png": "[encoded data removed]"
          },
          "metadata": {
            "needs_background": "light"
          }
        }
      ]
    },
    {
      "cell_type": "code",
      "source": [
        "prc_NB = np.array(NB_prc)\n",
        "prc_DT = np.array(DT_prc)\n",
        "prc_KNN = np.array(knn_prc)\n",
        "prc_LR = np.array(LR_prc)\n",
        "\n",
        "prcdict = {'NB' : prc_NB , 'DT' : prc_DT , 'KNN' : prc_KNN , 'LR' : prc_LR}\n",
        "\n",
        "fig, ax = plt.subplots()\n",
        "fig.suptitle('Model Precision Comparison' , fontsize = 14)\n",
        "ax.boxplot(dict.values())\n",
        "ax.set_xticklabels(dict.keys())\n",
        "plt.show()"
      ],
      "metadata": {
        "colab": {
          "base_uri": "https://localhost:8080/",
          "height": 0
        },
        "id": "KPaJ1WuKP9BR",
        "outputId": "a5e42fe2-9223-4756-a0b1-253416a1f785"
      },
      "execution_count": 40,
      "outputs": [
        {
          "output_type": "stream",
          "name": "stderr",
          "text": [
            "/usr/local/lib/python3.8/dist-packages/matplotlib/cbook/__init__.py:1376: VisibleDeprecationWarning: Creating an ndarray from ragged nested sequences (which is a list-or-tuple of lists-or-tuples-or ndarrays with different lengths or shapes) is deprecated. If you meant to do this, you must specify 'dtype=object' when creating the ndarray.\n",
            "  X = np.atleast_1d(X.T if isinstance(X, np.ndarray) else np.asarray(X))\n"
          ]
        },
        {
          "output_type": "display_data",
          "data": {
            "text/plain": [
              "<Figure size 432x288 with 1 Axes>"
            ],
            "image/png": "[encoded data removed]"
          },
          "metadata": {
            "needs_background": "light"
          }
        }
      ]
    },
    {
      "cell_type": "code",
      "source": [
        "rca_NB = np.array(NB_rca)\n",
        "rca_DT = np.array(DT_rca)\n",
        "rca_KNN = np.array(knn_rca)\n",
        "rca_LR = np.array(LR_rca)\n",
        "\n",
        "rcadict = {'NB' : rca_NB , 'DT' : rca_DT , 'KNN' : rca_KNN, 'LR' : rca_LR}\n",
        "\n",
        "fig, ax = plt.subplots()\n",
        "fig.suptitle('Model Recall Comparison' , fontsize = 14)\n",
        "ax.boxplot(dict.values())\n",
        "ax.set_xticklabels(dict.keys())\n",
        "plt.show()"
      ],
      "metadata": {
        "colab": {
          "base_uri": "https://localhost:8080/",
          "height": 0
        },
        "id": "Amqs_AVzP9Qj",
        "outputId": "6ec00687-69e8-4cfc-b76f-9309af59614d"
      },
      "execution_count": 41,
      "outputs": [
        {
          "output_type": "stream",
          "name": "stderr",
          "text": [
            "/usr/local/lib/python3.8/dist-packages/matplotlib/cbook/__init__.py:1376: VisibleDeprecationWarning: Creating an ndarray from ragged nested sequences (which is a list-or-tuple of lists-or-tuples-or ndarrays with different lengths or shapes) is deprecated. If you meant to do this, you must specify 'dtype=object' when creating the ndarray.\n",
            "  X = np.atleast_1d(X.T if isinstance(X, np.ndarray) else np.asarray(X))\n"
          ]
        },
        {
          "output_type": "display_data",
          "data": {
            "text/plain": [
              "<Figure size 432x288 with 1 Axes>"
            ],
            "image/png": "[encoded data removed]"
          },
          "metadata": {
            "needs_background": "light"
          }
        }
      ]
    },
    {
      "cell_type": "code",
      "source": [
        "f1_NB = np.array(NB_f1)\n",
        "f1_DT = np.array(DT_f1)\n",
        "f1_KNN = np.array(knn_f1)\n",
        "f1_LR = np.array(LR_f1)\n",
        "\n",
        "f1dict = {'NB' : f1_NB , 'DT' :f1_DT , 'KNN' : f1_KNN , 'LR' : f1_LR}\n",
        "\n",
        "\n",
        "fig, ax = plt.subplots()\n",
        "fig.suptitle('Model F1_score Comparison')\n",
        "ax.boxplot(dict.values())\n",
        "ax.set_xticklabels(dict.keys())\n",
        "plt.show()"
      ],
      "metadata": {
        "colab": {
          "base_uri": "https://localhost:8080/",
          "height": 0
        },
        "id": "2d8tLh3LP9XN",
        "outputId": "d9758b71-72e7-4a6e-f1a2-d0c48a18cbc6"
      },
      "execution_count": 42,
      "outputs": [
        {
          "output_type": "stream",
          "name": "stderr",
          "text": [
            "/usr/local/lib/python3.8/dist-packages/matplotlib/cbook/__init__.py:1376: VisibleDeprecationWarning: Creating an ndarray from ragged nested sequences (which is a list-or-tuple of lists-or-tuples-or ndarrays with different lengths or shapes) is deprecated. If you meant to do this, you must specify 'dtype=object' when creating the ndarray.\n",
            "  X = np.atleast_1d(X.T if isinstance(X, np.ndarray) else np.asarray(X))\n"
          ]
        },
        {
          "output_type": "display_data",
          "data": {
            "text/plain": [
              "<Figure size 432x288 with 1 Axes>"
            ],
            "image/png": "[encoded data removed]"
          },
          "metadata": {
            "needs_background": "light"
          }
        }
      ]
    },
    {
      "cell_type": "markdown",
      "source": [
        "#Radar chart to show the difference between the four models above, KNN , DT , NB , LR, using the model evaluating measures"
      ],
      "metadata": {
        "id": "k-TnAvMeB4R-"
      }
    },
    {
      "cell_type": "code",
      "source": [
        "cats = ['Accuracy' , 'Precision' , 'Recall' , 'F1_Score']\n",
        "NB = [nbacc , nbprc , nbrca , nbf1]\n",
        "DT = [dtacc , dtprc , dtrca , dtf1]\n",
        "KNN = [knnacc , knnprc , knnrca , knnf1]\n",
        "LR = [lracc , lrprc , lrrca , lrf1]\n",
        "\n",
        "angle1 = np.linspace(start=0, stop=2 * np.pi,  num=len(DT), endpoint=False)\n",
        "\n",
        "DT.append(DT[0])\n",
        "NB.append(NB[0])\n",
        "KNN.append(KNN[0])\n",
        "LR.append(LR[0])\n",
        "cats.append(cats[0])\n",
        "angle1=np.concatenate((angle1,[angle1[0]]))\n",
        "\n",
        "plt.figure(figsize=(6,6))\n",
        "plt.subplot(polar = True)\n",
        "\n",
        "plt.plot(angle1 , DT, label = 'DT')\n",
        "plt.fill(angle1,DT,alpha = 0.25)\n",
        "plt.plot(angle1 , NB, label = 'NB')\n",
        "plt.fill(angle1,NB,alpha = 0.25)\n",
        "plt.plot(angle1, KNN, label = 'KNN')\n",
        "plt.fill(angle1,KNN,alpha = 0.25,color = 'white')\n",
        "plt.plot(angle1, LR, label = 'LR')\n",
        "plt.fill(angle1,LR,alpha = 0.25)\n",
        "\n",
        "plt.thetagrids(np.degrees(angle1) , labels = cats)\n",
        "\n",
        "plt.legend()\n",
        "plt.show()"
      ],
      "metadata": {
        "id": "W2xyouQCV0cP",
        "colab": {
          "base_uri": "https://localhost:8080/",
          "height": 0
        },
        "outputId": "ad00b769-2c87-418d-f43f-cb37f98c0bf3"
      },
      "execution_count": 43,
      "outputs": [
        {
          "output_type": "display_data",
          "data": {
            "text/plain": [
              "<Figure size 432x432 with 1 Axes>"
            ],
            "image/png": "[encoded data removed]"
          },
          "metadata": {
            "needs_background": "light"
          }
        }
      ]
    }
  ]
}